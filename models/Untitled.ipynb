{
 "cells": [
  {
   "cell_type": "code",
   "execution_count": 2,
   "id": "14a1c42d",
   "metadata": {},
   "outputs": [],
   "source": [
    "import pandas as pd"
   ]
  },
  {
   "cell_type": "code",
   "execution_count": 3,
   "id": "d56946c6",
   "metadata": {},
   "outputs": [],
   "source": [
    "x = pd.read_csv(\"X_train.csv\")\n",
    "y = pd.read_csv(\"y_train.csv\")"
   ]
  },
  {
   "cell_type": "code",
   "execution_count": 4,
   "id": "42824ec4",
   "metadata": {},
   "outputs": [
    {
     "data": {
      "text/html": [
       "<div>\n",
       "<style scoped>\n",
       "    .dataframe tbody tr th:only-of-type {\n",
       "        vertical-align: middle;\n",
       "    }\n",
       "\n",
       "    .dataframe tbody tr th {\n",
       "        vertical-align: top;\n",
       "    }\n",
       "\n",
       "    .dataframe thead th {\n",
       "        text-align: right;\n",
       "    }\n",
       "</style>\n",
       "<table border=\"1\" class=\"dataframe\">\n",
       "  <thead>\n",
       "    <tr style=\"text-align: right;\">\n",
       "      <th></th>\n",
       "      <th>self_employed</th>\n",
       "      <th>family_history</th>\n",
       "      <th>work_interfere</th>\n",
       "      <th>no_employees</th>\n",
       "      <th>remote_work</th>\n",
       "      <th>tech_company</th>\n",
       "      <th>benefits</th>\n",
       "      <th>care_options</th>\n",
       "      <th>wellness_program</th>\n",
       "      <th>seek_help</th>\n",
       "      <th>...</th>\n",
       "      <th>mental_health_consequence</th>\n",
       "      <th>phys_health_consequence</th>\n",
       "      <th>coworkers</th>\n",
       "      <th>supervisor</th>\n",
       "      <th>mental_health_interview</th>\n",
       "      <th>phys_health_interview</th>\n",
       "      <th>mental_vs_physical</th>\n",
       "      <th>obs_consequence</th>\n",
       "      <th>Gender</th>\n",
       "      <th>Age</th>\n",
       "    </tr>\n",
       "  </thead>\n",
       "  <tbody>\n",
       "    <tr>\n",
       "      <th>0</th>\n",
       "      <td>No</td>\n",
       "      <td>No</td>\n",
       "      <td>Often</td>\n",
       "      <td>6-25</td>\n",
       "      <td>No</td>\n",
       "      <td>Yes</td>\n",
       "      <td>Yes</td>\n",
       "      <td>Not sure</td>\n",
       "      <td>No</td>\n",
       "      <td>Yes</td>\n",
       "      <td>...</td>\n",
       "      <td>No</td>\n",
       "      <td>No</td>\n",
       "      <td>Some of them</td>\n",
       "      <td>Yes</td>\n",
       "      <td>No</td>\n",
       "      <td>Maybe</td>\n",
       "      <td>Yes</td>\n",
       "      <td>No</td>\n",
       "      <td>female</td>\n",
       "      <td>37</td>\n",
       "    </tr>\n",
       "    <tr>\n",
       "      <th>1</th>\n",
       "      <td>No</td>\n",
       "      <td>No</td>\n",
       "      <td>Rarely</td>\n",
       "      <td>More than 1000</td>\n",
       "      <td>No</td>\n",
       "      <td>No</td>\n",
       "      <td>Don't know</td>\n",
       "      <td>No</td>\n",
       "      <td>Don't know</td>\n",
       "      <td>Don't know</td>\n",
       "      <td>...</td>\n",
       "      <td>Maybe</td>\n",
       "      <td>No</td>\n",
       "      <td>No</td>\n",
       "      <td>No</td>\n",
       "      <td>No</td>\n",
       "      <td>No</td>\n",
       "      <td>Don't know</td>\n",
       "      <td>No</td>\n",
       "      <td>male</td>\n",
       "      <td>44</td>\n",
       "    </tr>\n",
       "    <tr>\n",
       "      <th>2</th>\n",
       "      <td>No</td>\n",
       "      <td>No</td>\n",
       "      <td>Rarely</td>\n",
       "      <td>6-25</td>\n",
       "      <td>No</td>\n",
       "      <td>Yes</td>\n",
       "      <td>No</td>\n",
       "      <td>No</td>\n",
       "      <td>No</td>\n",
       "      <td>No</td>\n",
       "      <td>...</td>\n",
       "      <td>No</td>\n",
       "      <td>No</td>\n",
       "      <td>Yes</td>\n",
       "      <td>Yes</td>\n",
       "      <td>Yes</td>\n",
       "      <td>Yes</td>\n",
       "      <td>No</td>\n",
       "      <td>No</td>\n",
       "      <td>male</td>\n",
       "      <td>32</td>\n",
       "    </tr>\n",
       "    <tr>\n",
       "      <th>3</th>\n",
       "      <td>No</td>\n",
       "      <td>Yes</td>\n",
       "      <td>Often</td>\n",
       "      <td>26-100</td>\n",
       "      <td>No</td>\n",
       "      <td>Yes</td>\n",
       "      <td>No</td>\n",
       "      <td>Yes</td>\n",
       "      <td>No</td>\n",
       "      <td>No</td>\n",
       "      <td>...</td>\n",
       "      <td>Yes</td>\n",
       "      <td>Yes</td>\n",
       "      <td>Some of them</td>\n",
       "      <td>No</td>\n",
       "      <td>Maybe</td>\n",
       "      <td>Maybe</td>\n",
       "      <td>No</td>\n",
       "      <td>Yes</td>\n",
       "      <td>male</td>\n",
       "      <td>31</td>\n",
       "    </tr>\n",
       "    <tr>\n",
       "      <th>4</th>\n",
       "      <td>No</td>\n",
       "      <td>No</td>\n",
       "      <td>Never</td>\n",
       "      <td>100-500</td>\n",
       "      <td>Yes</td>\n",
       "      <td>Yes</td>\n",
       "      <td>Yes</td>\n",
       "      <td>No</td>\n",
       "      <td>Don't know</td>\n",
       "      <td>Don't know</td>\n",
       "      <td>...</td>\n",
       "      <td>No</td>\n",
       "      <td>No</td>\n",
       "      <td>Some of them</td>\n",
       "      <td>Yes</td>\n",
       "      <td>Yes</td>\n",
       "      <td>Yes</td>\n",
       "      <td>Don't know</td>\n",
       "      <td>No</td>\n",
       "      <td>male</td>\n",
       "      <td>31</td>\n",
       "    </tr>\n",
       "  </tbody>\n",
       "</table>\n",
       "<p>5 rows × 22 columns</p>\n",
       "</div>"
      ],
      "text/plain": [
       "  self_employed family_history work_interfere    no_employees remote_work  \\\n",
       "0            No             No          Often            6-25          No   \n",
       "1            No             No         Rarely  More than 1000          No   \n",
       "2            No             No         Rarely            6-25          No   \n",
       "3            No            Yes          Often          26-100          No   \n",
       "4            No             No          Never         100-500         Yes   \n",
       "\n",
       "  tech_company    benefits care_options wellness_program   seek_help  ...  \\\n",
       "0          Yes         Yes     Not sure               No         Yes  ...   \n",
       "1           No  Don't know           No       Don't know  Don't know  ...   \n",
       "2          Yes          No           No               No          No  ...   \n",
       "3          Yes          No          Yes               No          No  ...   \n",
       "4          Yes         Yes           No       Don't know  Don't know  ...   \n",
       "\n",
       "  mental_health_consequence phys_health_consequence     coworkers supervisor  \\\n",
       "0                        No                      No  Some of them        Yes   \n",
       "1                     Maybe                      No            No         No   \n",
       "2                        No                      No           Yes        Yes   \n",
       "3                       Yes                     Yes  Some of them         No   \n",
       "4                        No                      No  Some of them        Yes   \n",
       "\n",
       "  mental_health_interview phys_health_interview mental_vs_physical  \\\n",
       "0                      No                 Maybe                Yes   \n",
       "1                      No                    No         Don't know   \n",
       "2                     Yes                   Yes                 No   \n",
       "3                   Maybe                 Maybe                 No   \n",
       "4                     Yes                   Yes         Don't know   \n",
       "\n",
       "  obs_consequence  Gender Age  \n",
       "0              No  female  37  \n",
       "1              No    male  44  \n",
       "2              No    male  32  \n",
       "3             Yes    male  31  \n",
       "4              No    male  31  \n",
       "\n",
       "[5 rows x 22 columns]"
      ]
     },
     "execution_count": 4,
     "metadata": {},
     "output_type": "execute_result"
    }
   ],
   "source": [
    "x.head()"
   ]
  },
  {
   "cell_type": "code",
   "execution_count": 5,
   "id": "6ff9b270",
   "metadata": {},
   "outputs": [
    {
     "data": {
      "text/html": [
       "<div>\n",
       "<style scoped>\n",
       "    .dataframe tbody tr th:only-of-type {\n",
       "        vertical-align: middle;\n",
       "    }\n",
       "\n",
       "    .dataframe tbody tr th {\n",
       "        vertical-align: top;\n",
       "    }\n",
       "\n",
       "    .dataframe thead th {\n",
       "        text-align: right;\n",
       "    }\n",
       "</style>\n",
       "<table border=\"1\" class=\"dataframe\">\n",
       "  <thead>\n",
       "    <tr style=\"text-align: right;\">\n",
       "      <th></th>\n",
       "      <th>treatment</th>\n",
       "    </tr>\n",
       "  </thead>\n",
       "  <tbody>\n",
       "    <tr>\n",
       "      <th>0</th>\n",
       "      <td>Yes</td>\n",
       "    </tr>\n",
       "    <tr>\n",
       "      <th>1</th>\n",
       "      <td>No</td>\n",
       "    </tr>\n",
       "    <tr>\n",
       "      <th>2</th>\n",
       "      <td>No</td>\n",
       "    </tr>\n",
       "    <tr>\n",
       "      <th>3</th>\n",
       "      <td>Yes</td>\n",
       "    </tr>\n",
       "    <tr>\n",
       "      <th>4</th>\n",
       "      <td>No</td>\n",
       "    </tr>\n",
       "  </tbody>\n",
       "</table>\n",
       "</div>"
      ],
      "text/plain": [
       "  treatment\n",
       "0       Yes\n",
       "1        No\n",
       "2        No\n",
       "3       Yes\n",
       "4        No"
      ]
     },
     "execution_count": 5,
     "metadata": {},
     "output_type": "execute_result"
    }
   ],
   "source": [
    "y.head()"
   ]
  },
  {
   "cell_type": "markdown",
   "id": "82f5433e",
   "metadata": {},
   "source": [
    "## Feature Engineering"
   ]
  },
  {
   "cell_type": "code",
   "execution_count": 6,
   "id": "7f342b92",
   "metadata": {},
   "outputs": [],
   "source": [
    "from sklearn import preprocessing\n",
    "label_encoder = preprocessing.LabelEncoder()\n",
    "for i in x.columns:\n",
    "    if i == \"Age\":\n",
    "        continue\n",
    "    x[i]= label_encoder.fit_transform(x[i])\n",
    "  "
   ]
  },
  {
   "cell_type": "code",
   "execution_count": 7,
   "id": "77f4c9fd",
   "metadata": {},
   "outputs": [],
   "source": [
    "y[\"treatment\"] = label_encoder.fit_transform(y['treatment'])"
   ]
  },
  {
   "cell_type": "code",
   "execution_count": 8,
   "id": "8f3e5f2d",
   "metadata": {},
   "outputs": [
    {
     "data": {
      "text/html": [
       "<div>\n",
       "<style scoped>\n",
       "    .dataframe tbody tr th:only-of-type {\n",
       "        vertical-align: middle;\n",
       "    }\n",
       "\n",
       "    .dataframe tbody tr th {\n",
       "        vertical-align: top;\n",
       "    }\n",
       "\n",
       "    .dataframe thead th {\n",
       "        text-align: right;\n",
       "    }\n",
       "</style>\n",
       "<table border=\"1\" class=\"dataframe\">\n",
       "  <thead>\n",
       "    <tr style=\"text-align: right;\">\n",
       "      <th></th>\n",
       "      <th>self_employed</th>\n",
       "      <th>family_history</th>\n",
       "      <th>work_interfere</th>\n",
       "      <th>no_employees</th>\n",
       "      <th>remote_work</th>\n",
       "      <th>tech_company</th>\n",
       "      <th>benefits</th>\n",
       "      <th>care_options</th>\n",
       "      <th>wellness_program</th>\n",
       "      <th>seek_help</th>\n",
       "      <th>...</th>\n",
       "      <th>mental_health_consequence</th>\n",
       "      <th>phys_health_consequence</th>\n",
       "      <th>coworkers</th>\n",
       "      <th>supervisor</th>\n",
       "      <th>mental_health_interview</th>\n",
       "      <th>phys_health_interview</th>\n",
       "      <th>mental_vs_physical</th>\n",
       "      <th>obs_consequence</th>\n",
       "      <th>Gender</th>\n",
       "      <th>Age</th>\n",
       "    </tr>\n",
       "  </thead>\n",
       "  <tbody>\n",
       "    <tr>\n",
       "      <th>0</th>\n",
       "      <td>0</td>\n",
       "      <td>0</td>\n",
       "      <td>1</td>\n",
       "      <td>4</td>\n",
       "      <td>0</td>\n",
       "      <td>1</td>\n",
       "      <td>2</td>\n",
       "      <td>1</td>\n",
       "      <td>1</td>\n",
       "      <td>2</td>\n",
       "      <td>...</td>\n",
       "      <td>1</td>\n",
       "      <td>1</td>\n",
       "      <td>1</td>\n",
       "      <td>2</td>\n",
       "      <td>1</td>\n",
       "      <td>0</td>\n",
       "      <td>2</td>\n",
       "      <td>0</td>\n",
       "      <td>7</td>\n",
       "      <td>37</td>\n",
       "    </tr>\n",
       "    <tr>\n",
       "      <th>1</th>\n",
       "      <td>0</td>\n",
       "      <td>0</td>\n",
       "      <td>2</td>\n",
       "      <td>5</td>\n",
       "      <td>0</td>\n",
       "      <td>0</td>\n",
       "      <td>0</td>\n",
       "      <td>0</td>\n",
       "      <td>0</td>\n",
       "      <td>0</td>\n",
       "      <td>...</td>\n",
       "      <td>0</td>\n",
       "      <td>1</td>\n",
       "      <td>0</td>\n",
       "      <td>0</td>\n",
       "      <td>1</td>\n",
       "      <td>1</td>\n",
       "      <td>0</td>\n",
       "      <td>0</td>\n",
       "      <td>9</td>\n",
       "      <td>44</td>\n",
       "    </tr>\n",
       "    <tr>\n",
       "      <th>2</th>\n",
       "      <td>0</td>\n",
       "      <td>0</td>\n",
       "      <td>2</td>\n",
       "      <td>4</td>\n",
       "      <td>0</td>\n",
       "      <td>1</td>\n",
       "      <td>1</td>\n",
       "      <td>0</td>\n",
       "      <td>1</td>\n",
       "      <td>1</td>\n",
       "      <td>...</td>\n",
       "      <td>1</td>\n",
       "      <td>1</td>\n",
       "      <td>2</td>\n",
       "      <td>2</td>\n",
       "      <td>2</td>\n",
       "      <td>2</td>\n",
       "      <td>1</td>\n",
       "      <td>0</td>\n",
       "      <td>9</td>\n",
       "      <td>32</td>\n",
       "    </tr>\n",
       "    <tr>\n",
       "      <th>3</th>\n",
       "      <td>0</td>\n",
       "      <td>1</td>\n",
       "      <td>1</td>\n",
       "      <td>2</td>\n",
       "      <td>0</td>\n",
       "      <td>1</td>\n",
       "      <td>1</td>\n",
       "      <td>2</td>\n",
       "      <td>1</td>\n",
       "      <td>1</td>\n",
       "      <td>...</td>\n",
       "      <td>2</td>\n",
       "      <td>2</td>\n",
       "      <td>1</td>\n",
       "      <td>0</td>\n",
       "      <td>0</td>\n",
       "      <td>0</td>\n",
       "      <td>1</td>\n",
       "      <td>1</td>\n",
       "      <td>9</td>\n",
       "      <td>31</td>\n",
       "    </tr>\n",
       "    <tr>\n",
       "      <th>4</th>\n",
       "      <td>0</td>\n",
       "      <td>0</td>\n",
       "      <td>0</td>\n",
       "      <td>1</td>\n",
       "      <td>1</td>\n",
       "      <td>1</td>\n",
       "      <td>2</td>\n",
       "      <td>0</td>\n",
       "      <td>0</td>\n",
       "      <td>0</td>\n",
       "      <td>...</td>\n",
       "      <td>1</td>\n",
       "      <td>1</td>\n",
       "      <td>1</td>\n",
       "      <td>2</td>\n",
       "      <td>2</td>\n",
       "      <td>2</td>\n",
       "      <td>0</td>\n",
       "      <td>0</td>\n",
       "      <td>9</td>\n",
       "      <td>31</td>\n",
       "    </tr>\n",
       "  </tbody>\n",
       "</table>\n",
       "<p>5 rows × 22 columns</p>\n",
       "</div>"
      ],
      "text/plain": [
       "   self_employed  family_history  work_interfere  no_employees  remote_work  \\\n",
       "0              0               0               1             4            0   \n",
       "1              0               0               2             5            0   \n",
       "2              0               0               2             4            0   \n",
       "3              0               1               1             2            0   \n",
       "4              0               0               0             1            1   \n",
       "\n",
       "   tech_company  benefits  care_options  wellness_program  seek_help  ...  \\\n",
       "0             1         2             1                 1          2  ...   \n",
       "1             0         0             0                 0          0  ...   \n",
       "2             1         1             0                 1          1  ...   \n",
       "3             1         1             2                 1          1  ...   \n",
       "4             1         2             0                 0          0  ...   \n",
       "\n",
       "   mental_health_consequence  phys_health_consequence  coworkers  supervisor  \\\n",
       "0                          1                        1          1           2   \n",
       "1                          0                        1          0           0   \n",
       "2                          1                        1          2           2   \n",
       "3                          2                        2          1           0   \n",
       "4                          1                        1          1           2   \n",
       "\n",
       "   mental_health_interview  phys_health_interview  mental_vs_physical  \\\n",
       "0                        1                      0                   2   \n",
       "1                        1                      1                   0   \n",
       "2                        2                      2                   1   \n",
       "3                        0                      0                   1   \n",
       "4                        2                      2                   0   \n",
       "\n",
       "   obs_consequence  Gender  Age  \n",
       "0                0       7   37  \n",
       "1                0       9   44  \n",
       "2                0       9   32  \n",
       "3                1       9   31  \n",
       "4                0       9   31  \n",
       "\n",
       "[5 rows x 22 columns]"
      ]
     },
     "execution_count": 8,
     "metadata": {},
     "output_type": "execute_result"
    }
   ],
   "source": [
    "x.head()"
   ]
  },
  {
   "cell_type": "code",
   "execution_count": 9,
   "id": "7926b742",
   "metadata": {},
   "outputs": [
    {
     "data": {
      "text/html": [
       "<div>\n",
       "<style scoped>\n",
       "    .dataframe tbody tr th:only-of-type {\n",
       "        vertical-align: middle;\n",
       "    }\n",
       "\n",
       "    .dataframe tbody tr th {\n",
       "        vertical-align: top;\n",
       "    }\n",
       "\n",
       "    .dataframe thead th {\n",
       "        text-align: right;\n",
       "    }\n",
       "</style>\n",
       "<table border=\"1\" class=\"dataframe\">\n",
       "  <thead>\n",
       "    <tr style=\"text-align: right;\">\n",
       "      <th></th>\n",
       "      <th>treatment</th>\n",
       "    </tr>\n",
       "  </thead>\n",
       "  <tbody>\n",
       "    <tr>\n",
       "      <th>0</th>\n",
       "      <td>1</td>\n",
       "    </tr>\n",
       "    <tr>\n",
       "      <th>1</th>\n",
       "      <td>0</td>\n",
       "    </tr>\n",
       "    <tr>\n",
       "      <th>2</th>\n",
       "      <td>0</td>\n",
       "    </tr>\n",
       "    <tr>\n",
       "      <th>3</th>\n",
       "      <td>1</td>\n",
       "    </tr>\n",
       "    <tr>\n",
       "      <th>4</th>\n",
       "      <td>0</td>\n",
       "    </tr>\n",
       "  </tbody>\n",
       "</table>\n",
       "</div>"
      ],
      "text/plain": [
       "   treatment\n",
       "0          1\n",
       "1          0\n",
       "2          0\n",
       "3          1\n",
       "4          0"
      ]
     },
     "execution_count": 9,
     "metadata": {},
     "output_type": "execute_result"
    }
   ],
   "source": [
    "y.head()"
   ]
  },
  {
   "cell_type": "markdown",
   "id": "ab431f0d",
   "metadata": {},
   "source": [
    "## train test split"
   ]
  },
  {
   "cell_type": "code",
   "execution_count": 10,
   "id": "a011a752",
   "metadata": {},
   "outputs": [],
   "source": [
    "from sklearn.model_selection import train_test_split\n",
    "x_train, x_test ,y_train, y_test =train_test_split(x,y,test_size=0.30,random_state=42)"
   ]
  },
  {
   "cell_type": "markdown",
   "id": "2252a001",
   "metadata": {},
   "source": [
    "## logistic Regression"
   ]
  },
  {
   "cell_type": "code",
   "execution_count": 11,
   "id": "cb7bd731",
   "metadata": {},
   "outputs": [],
   "source": [
    "from sklearn.linear_model import LogisticRegression"
   ]
  },
  {
   "cell_type": "code",
   "execution_count": 12,
   "id": "75452c1f",
   "metadata": {},
   "outputs": [
    {
     "name": "stderr",
     "output_type": "stream",
     "text": [
      "C:\\ProgramData\\Anaconda3\\lib\\site-packages\\sklearn\\utils\\validation.py:993: DataConversionWarning: A column-vector y was passed when a 1d array was expected. Please change the shape of y to (n_samples, ), for example using ravel().\n",
      "  y = column_or_1d(y, warn=True)\n",
      "C:\\ProgramData\\Anaconda3\\lib\\site-packages\\sklearn\\linear_model\\_logistic.py:814: ConvergenceWarning: lbfgs failed to converge (status=1):\n",
      "STOP: TOTAL NO. of ITERATIONS REACHED LIMIT.\n",
      "\n",
      "Increase the number of iterations (max_iter) or scale the data as shown in:\n",
      "    https://scikit-learn.org/stable/modules/preprocessing.html\n",
      "Please also refer to the documentation for alternative solver options:\n",
      "    https://scikit-learn.org/stable/modules/linear_model.html#logistic-regression\n",
      "  n_iter_i = _check_optimize_result(\n"
     ]
    },
    {
     "data": {
      "text/plain": [
       "LogisticRegression()"
      ]
     },
     "execution_count": 12,
     "metadata": {},
     "output_type": "execute_result"
    }
   ],
   "source": [
    "logmodel= LogisticRegression()\n",
    "logmodel.fit(x_train,y_train)"
   ]
  },
  {
   "cell_type": "code",
   "execution_count": 13,
   "id": "1adcd303",
   "metadata": {},
   "outputs": [],
   "source": [
    "y_pred = logmodel.predict(x_test)"
   ]
  },
  {
   "cell_type": "code",
   "execution_count": 14,
   "id": "e91a10a1",
   "metadata": {},
   "outputs": [],
   "source": [
    "from sklearn.metrics import confusion_matrix , classification_report"
   ]
  },
  {
   "cell_type": "code",
   "execution_count": 15,
   "id": "75195ba2",
   "metadata": {},
   "outputs": [
    {
     "data": {
      "text/plain": [
       "array([[132,  49],\n",
       "       [ 59, 138]], dtype=int64)"
      ]
     },
     "execution_count": 15,
     "metadata": {},
     "output_type": "execute_result"
    }
   ],
   "source": [
    "accuracy=confusion_matrix(y_test,y_pred)\n",
    "accuracy"
   ]
  },
  {
   "cell_type": "code",
   "execution_count": 16,
   "id": "df1a9a8d",
   "metadata": {},
   "outputs": [
    {
     "name": "stdout",
     "output_type": "stream",
     "text": [
      "              precision    recall  f1-score   support\n",
      "\n",
      "           0       0.69      0.73      0.71       181\n",
      "           1       0.74      0.70      0.72       197\n",
      "\n",
      "    accuracy                           0.71       378\n",
      "   macro avg       0.71      0.71      0.71       378\n",
      "weighted avg       0.72      0.71      0.71       378\n",
      "\n"
     ]
    }
   ],
   "source": [
    "print(classification_report(y_test , y_pred))"
   ]
  },
  {
   "cell_type": "markdown",
   "id": "566e38ac",
   "metadata": {},
   "source": [
    "## Have to apply ROC AND AUC CURVE"
   ]
  },
  {
   "cell_type": "markdown",
   "id": "44b6559f",
   "metadata": {},
   "source": [
    "## Model Evaluation"
   ]
  },
  {
   "cell_type": "markdown",
   "id": "075a0fdd",
   "metadata": {},
   "source": [
    "## Decision Tree Classifier"
   ]
  },
  {
   "cell_type": "code",
   "execution_count": 20,
   "id": "48e71722",
   "metadata": {},
   "outputs": [],
   "source": [
    "from sklearn.tree import DecisionTreeClassifier"
   ]
  },
  {
   "cell_type": "code",
   "execution_count": 20,
   "id": "861f37e6",
   "metadata": {},
   "outputs": [
    {
     "data": {
      "text/plain": [
       "DecisionTreeClassifier()"
      ]
     },
     "execution_count": 20,
     "metadata": {},
     "output_type": "execute_result"
    }
   ],
   "source": [
    "classifier = DecisionTreeClassifier()\n",
    "classifier.fit(x_train, y_train)"
   ]
  },
  {
   "cell_type": "code",
   "execution_count": 21,
   "id": "10965565",
   "metadata": {},
   "outputs": [],
   "source": [
    "y_pred = classifier.predict(x_test)"
   ]
  },
  {
   "cell_type": "code",
   "execution_count": 22,
   "id": "fb448854",
   "metadata": {},
   "outputs": [],
   "source": [
    "from sklearn.metrics import confusion_matrix , classification_report"
   ]
  },
  {
   "cell_type": "code",
   "execution_count": 23,
   "id": "fba5198f",
   "metadata": {},
   "outputs": [
    {
     "data": {
      "text/plain": [
       "array([[126,  55],\n",
       "       [ 75, 122]], dtype=int64)"
      ]
     },
     "execution_count": 23,
     "metadata": {},
     "output_type": "execute_result"
    }
   ],
   "source": [
    "accuracy=confusion_matrix(y_test,y_pred)\n",
    "accuracy"
   ]
  },
  {
   "cell_type": "code",
   "execution_count": 24,
   "id": "518c8d0b",
   "metadata": {},
   "outputs": [
    {
     "name": "stdout",
     "output_type": "stream",
     "text": [
      "              precision    recall  f1-score   support\n",
      "\n",
      "           0       0.63      0.70      0.66       181\n",
      "           1       0.69      0.62      0.65       197\n",
      "\n",
      "    accuracy                           0.66       378\n",
      "   macro avg       0.66      0.66      0.66       378\n",
      "weighted avg       0.66      0.66      0.66       378\n",
      "\n"
     ]
    }
   ],
   "source": [
    "print(classification_report(y_test , y_pred))"
   ]
  },
  {
   "cell_type": "markdown",
   "id": "3fd6de5a",
   "metadata": {},
   "source": [
    "## Naive baye's"
   ]
  },
  {
   "cell_type": "code",
   "execution_count": 28,
   "id": "ede5dd40",
   "metadata": {},
   "outputs": [],
   "source": [
    "from sklearn.naive_bayes import GaussianNB  "
   ]
  },
  {
   "cell_type": "code",
   "execution_count": 29,
   "id": "4913c09f",
   "metadata": {},
   "outputs": [
    {
     "name": "stderr",
     "output_type": "stream",
     "text": [
      "C:\\ProgramData\\Anaconda3\\lib\\site-packages\\sklearn\\utils\\validation.py:993: DataConversionWarning: A column-vector y was passed when a 1d array was expected. Please change the shape of y to (n_samples, ), for example using ravel().\n",
      "  y = column_or_1d(y, warn=True)\n"
     ]
    },
    {
     "data": {
      "text/plain": [
       "GaussianNB()"
      ]
     },
     "execution_count": 29,
     "metadata": {},
     "output_type": "execute_result"
    }
   ],
   "source": [
    "nclassifier = GaussianNB()  \n",
    "nclassifier.fit(x_train, y_train)  "
   ]
  },
  {
   "cell_type": "code",
   "execution_count": 30,
   "id": "20a04372",
   "metadata": {},
   "outputs": [],
   "source": [
    "y_pred= classifier.predict(x_test)"
   ]
  },
  {
   "cell_type": "code",
   "execution_count": 31,
   "id": "a025569f",
   "metadata": {},
   "outputs": [],
   "source": [
    "from sklearn.metrics import confusion_matrix , classification_report"
   ]
  },
  {
   "cell_type": "code",
   "execution_count": 32,
   "id": "84f42393",
   "metadata": {},
   "outputs": [
    {
     "name": "stdout",
     "output_type": "stream",
     "text": [
      "[[126  55]\n",
      " [ 75 122]]\n"
     ]
    }
   ],
   "source": [
    "print(confusion_matrix(y_test,y_pred))"
   ]
  },
  {
   "cell_type": "code",
   "execution_count": 33,
   "id": "101b41ae",
   "metadata": {},
   "outputs": [
    {
     "name": "stdout",
     "output_type": "stream",
     "text": [
      "              precision    recall  f1-score   support\n",
      "\n",
      "           0       0.63      0.70      0.66       181\n",
      "           1       0.69      0.62      0.65       197\n",
      "\n",
      "    accuracy                           0.66       378\n",
      "   macro avg       0.66      0.66      0.66       378\n",
      "weighted avg       0.66      0.66      0.66       378\n",
      "\n"
     ]
    }
   ],
   "source": [
    "print(classification_report(y_test,y_pred))"
   ]
  },
  {
   "cell_type": "markdown",
   "id": "e9ed0e59",
   "metadata": {},
   "source": [
    "## Random Forest"
   ]
  },
  {
   "cell_type": "code",
   "execution_count": 34,
   "id": "06903ce5",
   "metadata": {},
   "outputs": [],
   "source": [
    "from sklearn.ensemble import RandomForestClassifier"
   ]
  },
  {
   "cell_type": "code",
   "execution_count": 35,
   "id": "99ba37cf",
   "metadata": {},
   "outputs": [
    {
     "name": "stderr",
     "output_type": "stream",
     "text": [
      "C:\\Users\\USER\\AppData\\Local\\Temp\\ipykernel_19300\\3503124810.py:2: DataConversionWarning: A column-vector y was passed when a 1d array was expected. Please change the shape of y to (n_samples,), for example using ravel().\n",
      "  rf_model.fit(x_train , y_train)\n"
     ]
    },
    {
     "data": {
      "text/plain": [
       "RandomForestClassifier()"
      ]
     },
     "execution_count": 35,
     "metadata": {},
     "output_type": "execute_result"
    }
   ],
   "source": [
    "rf_model = RandomForestClassifier()\n",
    "rf_model.fit(x_train , y_train)"
   ]
  },
  {
   "cell_type": "code",
   "execution_count": 36,
   "id": "c4473e4e",
   "metadata": {},
   "outputs": [],
   "source": [
    "from sklearn.metrics import confusion_matrix , classification_report"
   ]
  },
  {
   "cell_type": "code",
   "execution_count": 37,
   "id": "e1c23e9c",
   "metadata": {},
   "outputs": [
    {
     "name": "stdout",
     "output_type": "stream",
     "text": [
      "[[126  55]\n",
      " [ 75 122]]\n"
     ]
    }
   ],
   "source": [
    "print(confusion_matrix(y_test,y_pred))"
   ]
  },
  {
   "cell_type": "code",
   "execution_count": 38,
   "id": "f41b7d14",
   "metadata": {},
   "outputs": [
    {
     "name": "stdout",
     "output_type": "stream",
     "text": [
      "              precision    recall  f1-score   support\n",
      "\n",
      "           0       0.63      0.70      0.66       181\n",
      "           1       0.69      0.62      0.65       197\n",
      "\n",
      "    accuracy                           0.66       378\n",
      "   macro avg       0.66      0.66      0.66       378\n",
      "weighted avg       0.66      0.66      0.66       378\n",
      "\n"
     ]
    }
   ],
   "source": [
    "print(classification_report(y_test,y_pred))"
   ]
  },
  {
   "cell_type": "markdown",
   "id": "9e425a19",
   "metadata": {},
   "source": [
    "## Xgboost"
   ]
  },
  {
   "cell_type": "code",
   "execution_count": 42,
   "id": "208f89b5",
   "metadata": {},
   "outputs": [],
   "source": [
    "# pip install xgboost"
   ]
  },
  {
   "cell_type": "code",
   "execution_count": 43,
   "id": "57d0ec22",
   "metadata": {},
   "outputs": [],
   "source": [
    "from sklearn.model_selection import RandomizedSearchCV, GridSearchCV\n",
    "import xgboost"
   ]
  },
  {
   "cell_type": "code",
   "execution_count": 50,
   "id": "5179ef69",
   "metadata": {},
   "outputs": [],
   "source": [
    "xg = xgboost.XGBClassifier()\n",
    "xg.fit(x_train,y_train)\n",
    "y_pred = xg.predict(x_test)"
   ]
  },
  {
   "cell_type": "code",
   "execution_count": 51,
   "id": "fe34a24d",
   "metadata": {},
   "outputs": [
    {
     "data": {
      "text/plain": [
       "array([0, 0, 0, 1, 1, 0, 1, 1, 0, 0, 0, 1, 0, 0, 1, 1, 0, 1, 1, 1, 1, 0,\n",
       "       1, 0, 0, 1, 0, 0, 0, 0, 1, 1, 1, 0, 1, 0, 1, 0, 1, 0, 1, 0, 0, 1,\n",
       "       1, 1, 0, 1, 1, 1, 0, 0, 0, 1, 0, 1, 0, 0, 1, 1, 0, 1, 0, 0, 0, 0,\n",
       "       0, 1, 0, 1, 1, 0, 1, 0, 1, 1, 0, 1, 0, 1, 0, 1, 0, 1, 1, 0, 1, 0,\n",
       "       1, 1, 1, 1, 0, 0, 0, 0, 1, 0, 1, 1, 0, 1, 0, 0, 1, 0, 1, 0, 0, 1,\n",
       "       0, 0, 0, 1, 0, 1, 0, 1, 0, 0, 0, 1, 0, 0, 1, 0, 1, 0, 0, 0, 1, 0,\n",
       "       1, 0, 1, 0, 0, 0, 0, 0, 1, 1, 0, 0, 0, 0, 1, 1, 0, 0, 1, 1, 0, 0,\n",
       "       1, 0, 1, 0, 0, 1, 0, 0, 0, 0, 1, 1, 0, 0, 0, 0, 1, 0, 0, 1, 0, 1,\n",
       "       1, 1, 0, 1, 0, 0, 1, 1, 0, 1, 0, 1, 0, 1, 1, 1, 0, 0, 1, 1, 1, 0,\n",
       "       0, 0, 1, 0, 0, 1, 1, 1, 1, 0, 0, 0, 1, 0, 0, 0, 1, 0, 0, 1, 1, 1,\n",
       "       1, 0, 1, 1, 1, 0, 0, 1, 0, 0, 0, 1, 1, 1, 0, 1, 0, 0, 0, 1, 1, 0,\n",
       "       0, 1, 0, 0, 0, 0, 0, 0, 1, 0, 0, 1, 0, 0, 1, 0, 1, 1, 1, 1, 0, 0,\n",
       "       1, 0, 1, 1, 1, 1, 1, 1, 1, 1, 1, 1, 1, 0, 1, 0, 0, 0, 1, 0, 0, 1,\n",
       "       1, 1, 0, 1, 1, 0, 0, 1, 0, 0, 1, 0, 0, 1, 1, 0, 0, 0, 0, 1, 0, 0,\n",
       "       1, 0, 0, 1, 1, 1, 0, 1, 1, 0, 1, 0, 0, 0, 0, 1, 1, 0, 0, 1, 0, 1,\n",
       "       1, 1, 1, 1, 1, 0, 0, 0, 1, 0, 1, 1, 1, 1, 1, 0, 1, 1, 0, 1, 1, 1,\n",
       "       1, 1, 1, 0, 1, 0, 0, 0, 1, 0, 0, 0, 1, 1, 1, 0, 1, 0, 0, 0, 1, 0,\n",
       "       0, 1, 1, 1])"
      ]
     },
     "execution_count": 51,
     "metadata": {},
     "output_type": "execute_result"
    }
   ],
   "source": [
    "y_pred"
   ]
  },
  {
   "cell_type": "code",
   "execution_count": 52,
   "id": "50834cc3",
   "metadata": {},
   "outputs": [],
   "source": [
    "from sklearn.metrics import confusion_matrix , classification_report"
   ]
  },
  {
   "cell_type": "code",
   "execution_count": 57,
   "id": "521de0c8",
   "metadata": {},
   "outputs": [],
   "source": [
    "cm = confusion_matrix(y_test , y_pred)"
   ]
  },
  {
   "cell_type": "code",
   "execution_count": 58,
   "id": "41b26119",
   "metadata": {},
   "outputs": [
    {
     "data": {
      "text/plain": [
       "array([[135,  46],\n",
       "       [ 60, 137]], dtype=int64)"
      ]
     },
     "execution_count": 58,
     "metadata": {},
     "output_type": "execute_result"
    }
   ],
   "source": [
    "cm"
   ]
  },
  {
   "cell_type": "code",
   "execution_count": 59,
   "id": "c814a93d",
   "metadata": {},
   "outputs": [
    {
     "name": "stdout",
     "output_type": "stream",
     "text": [
      "              precision    recall  f1-score   support\n",
      "\n",
      "           0       0.69      0.75      0.72       181\n",
      "           1       0.75      0.70      0.72       197\n",
      "\n",
      "    accuracy                           0.72       378\n",
      "   macro avg       0.72      0.72      0.72       378\n",
      "weighted avg       0.72      0.72      0.72       378\n",
      "\n"
     ]
    }
   ],
   "source": [
    "print(classification_report(y_test , y_pred))"
   ]
  },
  {
   "cell_type": "markdown",
   "id": "977ffbaa",
   "metadata": {},
   "source": [
    "## Learning rate hyper parameter (default =0.3)"
   ]
  },
  {
   "cell_type": "code",
   "execution_count": 78,
   "id": "a63e2035",
   "metadata": {},
   "outputs": [],
   "source": [
    "xg = xgboost.XGBClassifier(eta=0.01)\n",
    "xg.fit(x_train,y_train)\n",
    "y_pred = xg.predict(x_test)"
   ]
  },
  {
   "cell_type": "code",
   "execution_count": 79,
   "id": "02c67941",
   "metadata": {},
   "outputs": [
    {
     "name": "stdout",
     "output_type": "stream",
     "text": [
      "[[136  45]\n",
      " [ 53 144]]\n"
     ]
    }
   ],
   "source": [
    "print(confusion_matrix(y_test , y_pred))"
   ]
  },
  {
   "cell_type": "code",
   "execution_count": 80,
   "id": "6f4dc4b2",
   "metadata": {},
   "outputs": [
    {
     "name": "stdout",
     "output_type": "stream",
     "text": [
      "              precision    recall  f1-score   support\n",
      "\n",
      "           0       0.72      0.75      0.74       181\n",
      "           1       0.76      0.73      0.75       197\n",
      "\n",
      "    accuracy                           0.74       378\n",
      "   macro avg       0.74      0.74      0.74       378\n",
      "weighted avg       0.74      0.74      0.74       378\n",
      "\n"
     ]
    }
   ],
   "source": [
    "print(classification_report(y_test , y_pred))"
   ]
  },
  {
   "cell_type": "markdown",
   "id": "27d0ce42",
   "metadata": {},
   "source": [
    "## Gamma Hyper parameter (default = 0)also known as regularizaion parameter"
   ]
  },
  {
   "cell_type": "code",
   "execution_count": 99,
   "id": "78586277",
   "metadata": {},
   "outputs": [],
   "source": [
    "xg = xgboost.XGBClassifier(eta=0.01,gamma=10)\n",
    "xg.fit(x_train,y_train)\n",
    "y_pred = xg.predict(x_test)"
   ]
  },
  {
   "cell_type": "code",
   "execution_count": 100,
   "id": "6993a18a",
   "metadata": {},
   "outputs": [
    {
     "name": "stdout",
     "output_type": "stream",
     "text": [
      "[[125  56]\n",
      " [ 41 156]]\n"
     ]
    }
   ],
   "source": [
    "print(confusion_matrix(y_test , y_pred))"
   ]
  },
  {
   "cell_type": "code",
   "execution_count": 101,
   "id": "772ca2e0",
   "metadata": {},
   "outputs": [
    {
     "name": "stdout",
     "output_type": "stream",
     "text": [
      "              precision    recall  f1-score   support\n",
      "\n",
      "           0       0.75      0.69      0.72       181\n",
      "           1       0.74      0.79      0.76       197\n",
      "\n",
      "    accuracy                           0.74       378\n",
      "   macro avg       0.74      0.74      0.74       378\n",
      "weighted avg       0.74      0.74      0.74       378\n",
      "\n"
     ]
    }
   ],
   "source": [
    "print(classification_report(y_test , y_pred))"
   ]
  },
  {
   "cell_type": "markdown",
   "id": "8b89d44d",
   "metadata": {},
   "source": [
    "## n_estimators (default = 100)"
   ]
  },
  {
   "cell_type": "code",
   "execution_count": 104,
   "id": "2d1643a2",
   "metadata": {},
   "outputs": [],
   "source": [
    "# params = {\n",
    "#     \"n_estimators\":[100, 200 ,500],\n",
    "#     \"max_depth\": [3,6,9],\n",
    "#     \"gamma\" : [10 , 20 , 30 , 40, 50],\n",
    "#     \"learning_rate\":[ 0.001, 00.1, 0.1, 1]\n",
    "# }\n",
    "# params={\n",
    "#  \"learning_rate\"    : [0.05, 0.10, 0.15, 0.20, 0.25, 0.30 ] ,\n",
    "#  \"max_depth\"        : [ 3, 4, 5, 6, 8, 10, 12, 15],\n",
    "#  \"min_child_weight\" : [ 1, 3, 5, 7 ],\n",
    "#  \"gamma\"            : [ 0.0, 0.1, 0.2 , 0.3, 0.4 ],\n",
    "#  \"colsample_bytree\" : [ 0.3, 0.4, 0.5 , 0.7 ]\n",
    "    \n",
    "# }"
   ]
  },
  {
   "cell_type": "code",
   "execution_count": 309,
   "id": "0022a0b9",
   "metadata": {},
   "outputs": [],
   "source": [
    "xg = xgboost.XGBClassifier(eta=0.01,gamma=10 ,n_estimators = 500)\n",
    "xg.fit(x_train,y_train)\n",
    "y_pred = xg.predict(x_test)"
   ]
  },
  {
   "cell_type": "code",
   "execution_count": 310,
   "id": "0b968bdf",
   "metadata": {},
   "outputs": [
    {
     "name": "stdout",
     "output_type": "stream",
     "text": [
      "[[125  56]\n",
      " [ 41 156]]\n"
     ]
    }
   ],
   "source": [
    "print(confusion_matrix(y_test , y_pred))"
   ]
  },
  {
   "cell_type": "code",
   "execution_count": 311,
   "id": "b444f3c0",
   "metadata": {},
   "outputs": [
    {
     "name": "stdout",
     "output_type": "stream",
     "text": [
      "              precision    recall  f1-score   support\n",
      "\n",
      "           0       0.75      0.69      0.72       181\n",
      "           1       0.74      0.79      0.76       197\n",
      "\n",
      "    accuracy                           0.74       378\n",
      "   macro avg       0.74      0.74      0.74       378\n",
      "weighted avg       0.74      0.74      0.74       378\n",
      "\n"
     ]
    }
   ],
   "source": [
    "print(classification_report(y_test , y_pred))"
   ]
  },
  {
   "cell_type": "markdown",
   "id": "1a02921a",
   "metadata": {},
   "source": [
    "## max_depth  hyper parameter (default =3 )"
   ]
  },
  {
   "cell_type": "code",
   "execution_count": 334,
   "id": "9870c559",
   "metadata": {},
   "outputs": [],
   "source": [
    "xg = xgboost.XGBClassifier(eta=0.01,gamma=10 ,n_estimators = 500, max_depth =3)\n",
    "xg.fit(x_train,y_train)\n",
    "y_pred = xg.predict(x_test)\n",
    "#3"
   ]
  },
  {
   "cell_type": "code",
   "execution_count": 335,
   "id": "9e375b2c",
   "metadata": {},
   "outputs": [
    {
     "name": "stdout",
     "output_type": "stream",
     "text": [
      "[[124  57]\n",
      " [ 40 157]]\n"
     ]
    }
   ],
   "source": [
    "print(confusion_matrix(y_test , y_pred))"
   ]
  },
  {
   "cell_type": "code",
   "execution_count": 336,
   "id": "ab429a8f",
   "metadata": {},
   "outputs": [
    {
     "name": "stdout",
     "output_type": "stream",
     "text": [
      "              precision    recall  f1-score   support\n",
      "\n",
      "           0       0.76      0.69      0.72       181\n",
      "           1       0.73      0.80      0.76       197\n",
      "\n",
      "    accuracy                           0.74       378\n",
      "   macro avg       0.74      0.74      0.74       378\n",
      "weighted avg       0.74      0.74      0.74       378\n",
      "\n"
     ]
    }
   ],
   "source": [
    "print(classification_report(y_test , y_pred))"
   ]
  },
  {
   "cell_type": "markdown",
   "id": "c97236ee",
   "metadata": {},
   "source": [
    "## min child weigth  hyper parameter (default =3 )"
   ]
  },
  {
   "cell_type": "code",
   "execution_count": 150,
   "id": "3814acca",
   "metadata": {},
   "outputs": [],
   "source": [
    "xg = xgboost.XGBClassifier(eta=0.01,gamma=10 ,n_estimators = 500, max_depth =3 , min_child_weight = 7)\n",
    "xg.fit(x_train,y_train)\n",
    "y_pred = xg.predict(x_test)"
   ]
  },
  {
   "cell_type": "code",
   "execution_count": 151,
   "id": "77d418ef",
   "metadata": {},
   "outputs": [
    {
     "name": "stdout",
     "output_type": "stream",
     "text": [
      "[[124  57]\n",
      " [ 40 157]]\n"
     ]
    }
   ],
   "source": [
    "print(confusion_matrix(y_test , y_pred))"
   ]
  },
  {
   "cell_type": "code",
   "execution_count": 152,
   "id": "8ab14971",
   "metadata": {},
   "outputs": [
    {
     "name": "stdout",
     "output_type": "stream",
     "text": [
      "              precision    recall  f1-score   support\n",
      "\n",
      "           0       0.76      0.69      0.72       181\n",
      "           1       0.73      0.80      0.76       197\n",
      "\n",
      "    accuracy                           0.74       378\n",
      "   macro avg       0.74      0.74      0.74       378\n",
      "weighted avg       0.74      0.74      0.74       378\n",
      "\n"
     ]
    }
   ],
   "source": [
    "print(classification_report(y_test , y_pred))"
   ]
  },
  {
   "cell_type": "markdown",
   "id": "aa22cf36",
   "metadata": {},
   "source": [
    "## colsample_bytree hyper parameter (default =1)"
   ]
  },
  {
   "cell_type": "code",
   "execution_count": 346,
   "id": "5b6aa38c",
   "metadata": {},
   "outputs": [],
   "source": [
    "xg = xgboost.XGBClassifier(eta=0.01,gamma=4 ,n_estimators = 500, max_depth =3 , min_child_weight = 7,colsample_bytree =0.2)\n",
    "xg.fit(x_train,y_train)\n",
    "y_pred = xg.predict(x_test)"
   ]
  },
  {
   "cell_type": "code",
   "execution_count": 347,
   "id": "e3594e16",
   "metadata": {},
   "outputs": [
    {
     "name": "stdout",
     "output_type": "stream",
     "text": [
      "[[139  42]\n",
      " [ 43 154]]\n"
     ]
    }
   ],
   "source": [
    "print(confusion_matrix(y_test , y_pred))"
   ]
  },
  {
   "cell_type": "code",
   "execution_count": 348,
   "id": "67c55352",
   "metadata": {},
   "outputs": [
    {
     "name": "stdout",
     "output_type": "stream",
     "text": [
      "              precision    recall  f1-score   support\n",
      "\n",
      "           0       0.76      0.77      0.77       181\n",
      "           1       0.79      0.78      0.78       197\n",
      "\n",
      "    accuracy                           0.78       378\n",
      "   macro avg       0.77      0.77      0.77       378\n",
      "weighted avg       0.78      0.78      0.78       378\n",
      "\n"
     ]
    }
   ],
   "source": [
    "print(classification_report(y_test , y_pred))"
   ]
  },
  {
   "cell_type": "code",
   "execution_count": 380,
   "id": "03cb1583",
   "metadata": {},
   "outputs": [],
   "source": [
    "from sklearn.metrics import accuracy_score,r2_score"
   ]
  },
  {
   "cell_type": "code",
   "execution_count": 373,
   "id": "e29820ce",
   "metadata": {},
   "outputs": [
    {
     "name": "stdout",
     "output_type": "stream",
     "text": [
      "0.7751322751322751\n"
     ]
    }
   ],
   "source": [
    "print(accuracy_score(y_test , y_pred))"
   ]
  },
  {
   "cell_type": "code",
   "execution_count": 384,
   "id": "57ab759e",
   "metadata": {},
   "outputs": [
    {
     "name": "stdout",
     "output_type": "stream",
     "text": [
      "0.09891465911321784\n"
     ]
    }
   ],
   "source": [
    "print(r2_score(y_test , y_pred))"
   ]
  },
  {
   "cell_type": "markdown",
   "id": "be4ff0d4",
   "metadata": {},
   "source": [
    "## Iterate all hyparameters "
   ]
  },
  {
   "cell_type": "code",
   "execution_count": 393,
   "id": "7aa054f3",
   "metadata": {},
   "outputs": [],
   "source": [
    "from sklearn.model_selection import GridSearchCV\n",
    "import time"
   ]
  },
  {
   "cell_type": "code",
   "execution_count": 394,
   "id": "38602584",
   "metadata": {},
   "outputs": [],
   "source": [
    "xg = xgboost.XGBClassifier(random_state=42)"
   ]
  },
  {
   "cell_type": "code",
   "execution_count": 417,
   "id": "2bcfe82f",
   "metadata": {},
   "outputs": [],
   "source": [
    "params = {\n",
    "    \"max_depth\": [3,6,9],\n",
    "    \"gamma\" : [2 , 4, 10, 30, 0.2, 0.4],\n",
    "    \"learning_rate\":[ 0.001, 00.1, 0.1, 1],\n",
    "#\n",
    "}\n",
    "## total decision tree's created(n_estimators * max_depth * gamma* learning_rate*colsample_bytree) = 3* 3* 9* 4*3 =972\n",
    "## \"colsample_bytree\" : [ 0.2] column we will train with all columns so no need to give 0.2 that is 20% of columns\n",
    "## \"n_estimators\":[100, 200 ,500](it is not affecting so remove)\n",
    "## \"min_child_weight\" : [ 1, 3, 5, 7 ] (it is not affecting so remove)\n",
    "## \"max_depth\"        : [ 3, 4, 5, 6, 8, 10, 12, 15] ( its is not affecting so remove)\n"
   ]
  },
  {
   "cell_type": "code",
   "execution_count": 418,
   "id": "7d1811a9",
   "metadata": {},
   "outputs": [],
   "source": [
    "gs = GridSearchCV(estimator=xg , \n",
    "                  param_grid = params,\n",
    "                  scoring = [\"accuracy\"],\n",
    "                  refit = \"accuracy\",\n",
    "                  cv =5 ,\n",
    "                  verbose=2\n",
    "                 )\n",
    "## verbose 0 means it shows nothing\n",
    "## verbose 1 means it shows detail printout fitting model\n",
    "## verbose 2 means it shows ecoh"
   ]
  },
  {
   "cell_type": "code",
   "execution_count": 419,
   "id": "af248e23",
   "metadata": {},
   "outputs": [],
   "source": [
    "# time taken by model \n",
    "    \n",
    "#         start_time = time.time()\n",
    "#         start training model or both training and testing\n",
    "#         print(\"-- %s seconds --\"%(time.time() - start_time))"
   ]
  },
  {
   "cell_type": "code",
   "execution_count": 420,
   "id": "9d88b41d",
   "metadata": {},
   "outputs": [],
   "source": [
    "start_time = time.time()"
   ]
  },
  {
   "cell_type": "code",
   "execution_count": 421,
   "id": "0006e6c8",
   "metadata": {},
   "outputs": [
    {
     "name": "stdout",
     "output_type": "stream",
     "text": [
      "Fitting 5 folds for each of 72 candidates, totalling 360 fits\n",
      "[CV] END ..........gamma=2, learning_rate=0.001, max_depth=3; total time=   0.0s\n",
      "[CV] END ..........gamma=2, learning_rate=0.001, max_depth=3; total time=   0.0s\n",
      "[CV] END ..........gamma=2, learning_rate=0.001, max_depth=3; total time=   0.0s\n",
      "[CV] END ..........gamma=2, learning_rate=0.001, max_depth=3; total time=   0.0s\n",
      "[CV] END ..........gamma=2, learning_rate=0.001, max_depth=3; total time=   0.0s\n",
      "[CV] END ..........gamma=2, learning_rate=0.001, max_depth=6; total time=   0.0s\n",
      "[CV] END ..........gamma=2, learning_rate=0.001, max_depth=6; total time=   0.0s\n",
      "[CV] END ..........gamma=2, learning_rate=0.001, max_depth=6; total time=   0.0s\n",
      "[CV] END ..........gamma=2, learning_rate=0.001, max_depth=6; total time=   0.1s\n",
      "[CV] END ..........gamma=2, learning_rate=0.001, max_depth=6; total time=   0.0s\n",
      "[CV] END ..........gamma=2, learning_rate=0.001, max_depth=9; total time=   0.0s\n",
      "[CV] END ..........gamma=2, learning_rate=0.001, max_depth=9; total time=   0.1s\n",
      "[CV] END ..........gamma=2, learning_rate=0.001, max_depth=9; total time=   0.0s\n",
      "[CV] END ..........gamma=2, learning_rate=0.001, max_depth=9; total time=   0.0s\n",
      "[CV] END ..........gamma=2, learning_rate=0.001, max_depth=9; total time=   0.0s\n",
      "[CV] END ............gamma=2, learning_rate=0.1, max_depth=3; total time=   0.0s\n",
      "[CV] END ............gamma=2, learning_rate=0.1, max_depth=3; total time=   0.0s\n",
      "[CV] END ............gamma=2, learning_rate=0.1, max_depth=3; total time=   0.0s\n",
      "[CV] END ............gamma=2, learning_rate=0.1, max_depth=3; total time=   0.0s\n",
      "[CV] END ............gamma=2, learning_rate=0.1, max_depth=3; total time=   0.0s\n",
      "[CV] END ............gamma=2, learning_rate=0.1, max_depth=6; total time=   0.0s\n",
      "[CV] END ............gamma=2, learning_rate=0.1, max_depth=6; total time=   0.0s\n",
      "[CV] END ............gamma=2, learning_rate=0.1, max_depth=6; total time=   0.0s\n",
      "[CV] END ............gamma=2, learning_rate=0.1, max_depth=6; total time=   0.0s\n",
      "[CV] END ............gamma=2, learning_rate=0.1, max_depth=6; total time=   0.0s\n",
      "[CV] END ............gamma=2, learning_rate=0.1, max_depth=9; total time=   0.1s\n",
      "[CV] END ............gamma=2, learning_rate=0.1, max_depth=9; total time=   0.0s\n",
      "[CV] END ............gamma=2, learning_rate=0.1, max_depth=9; total time=   0.1s\n",
      "[CV] END ............gamma=2, learning_rate=0.1, max_depth=9; total time=   0.1s\n",
      "[CV] END ............gamma=2, learning_rate=0.1, max_depth=9; total time=   0.1s\n",
      "[CV] END ............gamma=2, learning_rate=0.1, max_depth=3; total time=   0.0s\n",
      "[CV] END ............gamma=2, learning_rate=0.1, max_depth=3; total time=   0.0s\n",
      "[CV] END ............gamma=2, learning_rate=0.1, max_depth=3; total time=   0.0s\n",
      "[CV] END ............gamma=2, learning_rate=0.1, max_depth=3; total time=   0.0s\n",
      "[CV] END ............gamma=2, learning_rate=0.1, max_depth=3; total time=   0.0s\n",
      "[CV] END ............gamma=2, learning_rate=0.1, max_depth=6; total time=   0.1s\n",
      "[CV] END ............gamma=2, learning_rate=0.1, max_depth=6; total time=   0.0s\n",
      "[CV] END ............gamma=2, learning_rate=0.1, max_depth=6; total time=   0.0s\n",
      "[CV] END ............gamma=2, learning_rate=0.1, max_depth=6; total time=   0.0s\n",
      "[CV] END ............gamma=2, learning_rate=0.1, max_depth=6; total time=   0.0s\n",
      "[CV] END ............gamma=2, learning_rate=0.1, max_depth=9; total time=   0.0s\n",
      "[CV] END ............gamma=2, learning_rate=0.1, max_depth=9; total time=   0.1s\n",
      "[CV] END ............gamma=2, learning_rate=0.1, max_depth=9; total time=   0.1s\n",
      "[CV] END ............gamma=2, learning_rate=0.1, max_depth=9; total time=   0.1s\n",
      "[CV] END ............gamma=2, learning_rate=0.1, max_depth=9; total time=   0.1s\n",
      "[CV] END ..............gamma=2, learning_rate=1, max_depth=3; total time=   0.0s\n",
      "[CV] END ..............gamma=2, learning_rate=1, max_depth=3; total time=   0.0s\n",
      "[CV] END ..............gamma=2, learning_rate=1, max_depth=3; total time=   0.0s\n",
      "[CV] END ..............gamma=2, learning_rate=1, max_depth=3; total time=   0.0s\n",
      "[CV] END ..............gamma=2, learning_rate=1, max_depth=3; total time=   0.0s\n",
      "[CV] END ..............gamma=2, learning_rate=1, max_depth=6; total time=   0.1s\n",
      "[CV] END ..............gamma=2, learning_rate=1, max_depth=6; total time=   0.1s\n",
      "[CV] END ..............gamma=2, learning_rate=1, max_depth=6; total time=   0.0s\n",
      "[CV] END ..............gamma=2, learning_rate=1, max_depth=6; total time=   0.0s\n",
      "[CV] END ..............gamma=2, learning_rate=1, max_depth=6; total time=   0.0s\n",
      "[CV] END ..............gamma=2, learning_rate=1, max_depth=9; total time=   0.0s\n",
      "[CV] END ..............gamma=2, learning_rate=1, max_depth=9; total time=   0.0s\n",
      "[CV] END ..............gamma=2, learning_rate=1, max_depth=9; total time=   0.1s\n",
      "[CV] END ..............gamma=2, learning_rate=1, max_depth=9; total time=   0.0s\n",
      "[CV] END ..............gamma=2, learning_rate=1, max_depth=9; total time=   0.1s\n",
      "[CV] END ..........gamma=4, learning_rate=0.001, max_depth=3; total time=   0.0s\n",
      "[CV] END ..........gamma=4, learning_rate=0.001, max_depth=3; total time=   0.0s\n",
      "[CV] END ..........gamma=4, learning_rate=0.001, max_depth=3; total time=   0.0s\n",
      "[CV] END ..........gamma=4, learning_rate=0.001, max_depth=3; total time=   0.0s\n",
      "[CV] END ..........gamma=4, learning_rate=0.001, max_depth=3; total time=   0.0s\n",
      "[CV] END ..........gamma=4, learning_rate=0.001, max_depth=6; total time=   0.0s\n",
      "[CV] END ..........gamma=4, learning_rate=0.001, max_depth=6; total time=   0.0s\n",
      "[CV] END ..........gamma=4, learning_rate=0.001, max_depth=6; total time=   0.0s\n",
      "[CV] END ..........gamma=4, learning_rate=0.001, max_depth=6; total time=   0.0s\n",
      "[CV] END ..........gamma=4, learning_rate=0.001, max_depth=6; total time=   0.0s\n",
      "[CV] END ..........gamma=4, learning_rate=0.001, max_depth=9; total time=   0.1s\n",
      "[CV] END ..........gamma=4, learning_rate=0.001, max_depth=9; total time=   0.1s\n",
      "[CV] END ..........gamma=4, learning_rate=0.001, max_depth=9; total time=   0.0s\n",
      "[CV] END ..........gamma=4, learning_rate=0.001, max_depth=9; total time=   0.0s\n",
      "[CV] END ..........gamma=4, learning_rate=0.001, max_depth=9; total time=   0.0s\n",
      "[CV] END ............gamma=4, learning_rate=0.1, max_depth=3; total time=   0.0s\n",
      "[CV] END ............gamma=4, learning_rate=0.1, max_depth=3; total time=   0.0s\n",
      "[CV] END ............gamma=4, learning_rate=0.1, max_depth=3; total time=   0.0s\n",
      "[CV] END ............gamma=4, learning_rate=0.1, max_depth=3; total time=   0.0s\n",
      "[CV] END ............gamma=4, learning_rate=0.1, max_depth=3; total time=   0.0s\n",
      "[CV] END ............gamma=4, learning_rate=0.1, max_depth=6; total time=   0.0s\n",
      "[CV] END ............gamma=4, learning_rate=0.1, max_depth=6; total time=   0.0s\n",
      "[CV] END ............gamma=4, learning_rate=0.1, max_depth=6; total time=   0.0s\n",
      "[CV] END ............gamma=4, learning_rate=0.1, max_depth=6; total time=   0.0s\n",
      "[CV] END ............gamma=4, learning_rate=0.1, max_depth=6; total time=   0.0s\n",
      "[CV] END ............gamma=4, learning_rate=0.1, max_depth=9; total time=   0.1s\n",
      "[CV] END ............gamma=4, learning_rate=0.1, max_depth=9; total time=   0.1s\n",
      "[CV] END ............gamma=4, learning_rate=0.1, max_depth=9; total time=   0.1s\n",
      "[CV] END ............gamma=4, learning_rate=0.1, max_depth=9; total time=   0.1s\n",
      "[CV] END ............gamma=4, learning_rate=0.1, max_depth=9; total time=   0.1s\n",
      "[CV] END ............gamma=4, learning_rate=0.1, max_depth=3; total time=   0.0s\n",
      "[CV] END ............gamma=4, learning_rate=0.1, max_depth=3; total time=   0.0s\n",
      "[CV] END ............gamma=4, learning_rate=0.1, max_depth=3; total time=   0.0s\n",
      "[CV] END ............gamma=4, learning_rate=0.1, max_depth=3; total time=   0.0s\n",
      "[CV] END ............gamma=4, learning_rate=0.1, max_depth=3; total time=   0.0s\n",
      "[CV] END ............gamma=4, learning_rate=0.1, max_depth=6; total time=   0.0s\n",
      "[CV] END ............gamma=4, learning_rate=0.1, max_depth=6; total time=   0.0s\n",
      "[CV] END ............gamma=4, learning_rate=0.1, max_depth=6; total time=   0.0s\n",
      "[CV] END ............gamma=4, learning_rate=0.1, max_depth=6; total time=   0.0s\n",
      "[CV] END ............gamma=4, learning_rate=0.1, max_depth=6; total time=   0.0s\n",
      "[CV] END ............gamma=4, learning_rate=0.1, max_depth=9; total time=   0.1s\n",
      "[CV] END ............gamma=4, learning_rate=0.1, max_depth=9; total time=   0.1s\n"
     ]
    },
    {
     "name": "stdout",
     "output_type": "stream",
     "text": [
      "[CV] END ............gamma=4, learning_rate=0.1, max_depth=9; total time=   0.1s\n",
      "[CV] END ............gamma=4, learning_rate=0.1, max_depth=9; total time=   0.1s\n",
      "[CV] END ............gamma=4, learning_rate=0.1, max_depth=9; total time=   0.1s\n",
      "[CV] END ..............gamma=4, learning_rate=1, max_depth=3; total time=   0.0s\n",
      "[CV] END ..............gamma=4, learning_rate=1, max_depth=3; total time=   0.0s\n",
      "[CV] END ..............gamma=4, learning_rate=1, max_depth=3; total time=   0.0s\n",
      "[CV] END ..............gamma=4, learning_rate=1, max_depth=3; total time=   0.0s\n",
      "[CV] END ..............gamma=4, learning_rate=1, max_depth=3; total time=   0.1s\n",
      "[CV] END ..............gamma=4, learning_rate=1, max_depth=6; total time=   0.1s\n",
      "[CV] END ..............gamma=4, learning_rate=1, max_depth=6; total time=   0.1s\n",
      "[CV] END ..............gamma=4, learning_rate=1, max_depth=6; total time=   0.1s\n",
      "[CV] END ..............gamma=4, learning_rate=1, max_depth=6; total time=   0.1s\n",
      "[CV] END ..............gamma=4, learning_rate=1, max_depth=6; total time=   0.1s\n",
      "[CV] END ..............gamma=4, learning_rate=1, max_depth=9; total time=   0.0s\n",
      "[CV] END ..............gamma=4, learning_rate=1, max_depth=9; total time=   0.1s\n",
      "[CV] END ..............gamma=4, learning_rate=1, max_depth=9; total time=   0.1s\n",
      "[CV] END ..............gamma=4, learning_rate=1, max_depth=9; total time=   0.1s\n",
      "[CV] END ..............gamma=4, learning_rate=1, max_depth=9; total time=   0.1s\n",
      "[CV] END .........gamma=10, learning_rate=0.001, max_depth=3; total time=   0.0s\n",
      "[CV] END .........gamma=10, learning_rate=0.001, max_depth=3; total time=   0.0s\n",
      "[CV] END .........gamma=10, learning_rate=0.001, max_depth=3; total time=   0.0s\n",
      "[CV] END .........gamma=10, learning_rate=0.001, max_depth=3; total time=   0.0s\n",
      "[CV] END .........gamma=10, learning_rate=0.001, max_depth=3; total time=   0.0s\n",
      "[CV] END .........gamma=10, learning_rate=0.001, max_depth=6; total time=   0.0s\n",
      "[CV] END .........gamma=10, learning_rate=0.001, max_depth=6; total time=   0.0s\n",
      "[CV] END .........gamma=10, learning_rate=0.001, max_depth=6; total time=   0.1s\n",
      "[CV] END .........gamma=10, learning_rate=0.001, max_depth=6; total time=   0.1s\n",
      "[CV] END .........gamma=10, learning_rate=0.001, max_depth=6; total time=   0.1s\n",
      "[CV] END .........gamma=10, learning_rate=0.001, max_depth=9; total time=   0.1s\n",
      "[CV] END .........gamma=10, learning_rate=0.001, max_depth=9; total time=   0.1s\n",
      "[CV] END .........gamma=10, learning_rate=0.001, max_depth=9; total time=   0.0s\n",
      "[CV] END .........gamma=10, learning_rate=0.001, max_depth=9; total time=   0.0s\n",
      "[CV] END .........gamma=10, learning_rate=0.001, max_depth=9; total time=   0.1s\n",
      "[CV] END ...........gamma=10, learning_rate=0.1, max_depth=3; total time=   0.0s\n",
      "[CV] END ...........gamma=10, learning_rate=0.1, max_depth=3; total time=   0.0s\n",
      "[CV] END ...........gamma=10, learning_rate=0.1, max_depth=3; total time=   0.0s\n",
      "[CV] END ...........gamma=10, learning_rate=0.1, max_depth=3; total time=   0.0s\n",
      "[CV] END ...........gamma=10, learning_rate=0.1, max_depth=3; total time=   0.0s\n",
      "[CV] END ...........gamma=10, learning_rate=0.1, max_depth=6; total time=   0.0s\n",
      "[CV] END ...........gamma=10, learning_rate=0.1, max_depth=6; total time=   0.0s\n",
      "[CV] END ...........gamma=10, learning_rate=0.1, max_depth=6; total time=   0.0s\n",
      "[CV] END ...........gamma=10, learning_rate=0.1, max_depth=6; total time=   0.0s\n",
      "[CV] END ...........gamma=10, learning_rate=0.1, max_depth=6; total time=   0.0s\n",
      "[CV] END ...........gamma=10, learning_rate=0.1, max_depth=9; total time=   0.1s\n",
      "[CV] END ...........gamma=10, learning_rate=0.1, max_depth=9; total time=   0.1s\n",
      "[CV] END ...........gamma=10, learning_rate=0.1, max_depth=9; total time=   0.1s\n",
      "[CV] END ...........gamma=10, learning_rate=0.1, max_depth=9; total time=   0.1s\n",
      "[CV] END ...........gamma=10, learning_rate=0.1, max_depth=9; total time=   0.1s\n",
      "[CV] END ...........gamma=10, learning_rate=0.1, max_depth=3; total time=   0.0s\n",
      "[CV] END ...........gamma=10, learning_rate=0.1, max_depth=3; total time=   0.0s\n",
      "[CV] END ...........gamma=10, learning_rate=0.1, max_depth=3; total time=   0.0s\n",
      "[CV] END ...........gamma=10, learning_rate=0.1, max_depth=3; total time=   0.0s\n",
      "[CV] END ...........gamma=10, learning_rate=0.1, max_depth=3; total time=   0.0s\n",
      "[CV] END ...........gamma=10, learning_rate=0.1, max_depth=6; total time=   0.0s\n",
      "[CV] END ...........gamma=10, learning_rate=0.1, max_depth=6; total time=   0.0s\n",
      "[CV] END ...........gamma=10, learning_rate=0.1, max_depth=6; total time=   0.0s\n",
      "[CV] END ...........gamma=10, learning_rate=0.1, max_depth=6; total time=   0.2s\n",
      "[CV] END ...........gamma=10, learning_rate=0.1, max_depth=6; total time=   0.1s\n",
      "[CV] END ...........gamma=10, learning_rate=0.1, max_depth=9; total time=   0.1s\n",
      "[CV] END ...........gamma=10, learning_rate=0.1, max_depth=9; total time=   0.1s\n",
      "[CV] END ...........gamma=10, learning_rate=0.1, max_depth=9; total time=   0.1s\n",
      "[CV] END ...........gamma=10, learning_rate=0.1, max_depth=9; total time=   0.1s\n",
      "[CV] END ...........gamma=10, learning_rate=0.1, max_depth=9; total time=   0.1s\n",
      "[CV] END .............gamma=10, learning_rate=1, max_depth=3; total time=   0.0s\n",
      "[CV] END .............gamma=10, learning_rate=1, max_depth=3; total time=   0.0s\n",
      "[CV] END .............gamma=10, learning_rate=1, max_depth=3; total time=   0.0s\n",
      "[CV] END .............gamma=10, learning_rate=1, max_depth=3; total time=   0.0s\n",
      "[CV] END .............gamma=10, learning_rate=1, max_depth=3; total time=   0.0s\n",
      "[CV] END .............gamma=10, learning_rate=1, max_depth=6; total time=   0.0s\n",
      "[CV] END .............gamma=10, learning_rate=1, max_depth=6; total time=   0.0s\n",
      "[CV] END .............gamma=10, learning_rate=1, max_depth=6; total time=   0.0s\n",
      "[CV] END .............gamma=10, learning_rate=1, max_depth=6; total time=   0.1s\n",
      "[CV] END .............gamma=10, learning_rate=1, max_depth=6; total time=   0.1s\n",
      "[CV] END .............gamma=10, learning_rate=1, max_depth=9; total time=   0.1s\n",
      "[CV] END .............gamma=10, learning_rate=1, max_depth=9; total time=   0.1s\n",
      "[CV] END .............gamma=10, learning_rate=1, max_depth=9; total time=   0.1s\n",
      "[CV] END .............gamma=10, learning_rate=1, max_depth=9; total time=   0.1s\n",
      "[CV] END .............gamma=10, learning_rate=1, max_depth=9; total time=   0.1s\n",
      "[CV] END .........gamma=30, learning_rate=0.001, max_depth=3; total time=   0.0s\n",
      "[CV] END .........gamma=30, learning_rate=0.001, max_depth=3; total time=   0.0s\n",
      "[CV] END .........gamma=30, learning_rate=0.001, max_depth=3; total time=   0.0s\n",
      "[CV] END .........gamma=30, learning_rate=0.001, max_depth=3; total time=   0.0s\n",
      "[CV] END .........gamma=30, learning_rate=0.001, max_depth=3; total time=   0.0s\n",
      "[CV] END .........gamma=30, learning_rate=0.001, max_depth=6; total time=   0.0s\n",
      "[CV] END .........gamma=30, learning_rate=0.001, max_depth=6; total time=   0.0s\n",
      "[CV] END .........gamma=30, learning_rate=0.001, max_depth=6; total time=   0.0s\n",
      "[CV] END .........gamma=30, learning_rate=0.001, max_depth=6; total time=   0.0s\n",
      "[CV] END .........gamma=30, learning_rate=0.001, max_depth=6; total time=   0.0s\n",
      "[CV] END .........gamma=30, learning_rate=0.001, max_depth=9; total time=   0.0s\n",
      "[CV] END .........gamma=30, learning_rate=0.001, max_depth=9; total time=   0.1s\n",
      "[CV] END .........gamma=30, learning_rate=0.001, max_depth=9; total time=   0.1s\n",
      "[CV] END .........gamma=30, learning_rate=0.001, max_depth=9; total time=   0.1s\n",
      "[CV] END .........gamma=30, learning_rate=0.001, max_depth=9; total time=   0.1s\n",
      "[CV] END ...........gamma=30, learning_rate=0.1, max_depth=3; total time=   0.0s\n",
      "[CV] END ...........gamma=30, learning_rate=0.1, max_depth=3; total time=   0.0s\n",
      "[CV] END ...........gamma=30, learning_rate=0.1, max_depth=3; total time=   0.0s\n",
      "[CV] END ...........gamma=30, learning_rate=0.1, max_depth=3; total time=   0.0s\n",
      "[CV] END ...........gamma=30, learning_rate=0.1, max_depth=3; total time=   0.0s\n",
      "[CV] END ...........gamma=30, learning_rate=0.1, max_depth=6; total time=   0.0s\n",
      "[CV] END ...........gamma=30, learning_rate=0.1, max_depth=6; total time=   0.0s\n",
      "[CV] END ...........gamma=30, learning_rate=0.1, max_depth=6; total time=   0.0s\n",
      "[CV] END ...........gamma=30, learning_rate=0.1, max_depth=6; total time=   0.0s\n",
      "[CV] END ...........gamma=30, learning_rate=0.1, max_depth=6; total time=   0.0s\n"
     ]
    },
    {
     "name": "stdout",
     "output_type": "stream",
     "text": [
      "[CV] END ...........gamma=30, learning_rate=0.1, max_depth=9; total time=   0.1s\n",
      "[CV] END ...........gamma=30, learning_rate=0.1, max_depth=9; total time=   0.0s\n",
      "[CV] END ...........gamma=30, learning_rate=0.1, max_depth=9; total time=   0.1s\n",
      "[CV] END ...........gamma=30, learning_rate=0.1, max_depth=9; total time=   0.0s\n",
      "[CV] END ...........gamma=30, learning_rate=0.1, max_depth=9; total time=   0.1s\n",
      "[CV] END ...........gamma=30, learning_rate=0.1, max_depth=3; total time=   0.0s\n",
      "[CV] END ...........gamma=30, learning_rate=0.1, max_depth=3; total time=   0.0s\n",
      "[CV] END ...........gamma=30, learning_rate=0.1, max_depth=3; total time=   0.0s\n",
      "[CV] END ...........gamma=30, learning_rate=0.1, max_depth=3; total time=   0.0s\n",
      "[CV] END ...........gamma=30, learning_rate=0.1, max_depth=3; total time=   0.0s\n",
      "[CV] END ...........gamma=30, learning_rate=0.1, max_depth=6; total time=   0.0s\n",
      "[CV] END ...........gamma=30, learning_rate=0.1, max_depth=6; total time=   0.0s\n",
      "[CV] END ...........gamma=30, learning_rate=0.1, max_depth=6; total time=   0.0s\n",
      "[CV] END ...........gamma=30, learning_rate=0.1, max_depth=6; total time=   0.0s\n",
      "[CV] END ...........gamma=30, learning_rate=0.1, max_depth=6; total time=   0.0s\n",
      "[CV] END ...........gamma=30, learning_rate=0.1, max_depth=9; total time=   0.0s\n",
      "[CV] END ...........gamma=30, learning_rate=0.1, max_depth=9; total time=   0.0s\n",
      "[CV] END ...........gamma=30, learning_rate=0.1, max_depth=9; total time=   0.0s\n",
      "[CV] END ...........gamma=30, learning_rate=0.1, max_depth=9; total time=   0.1s\n",
      "[CV] END ...........gamma=30, learning_rate=0.1, max_depth=9; total time=   0.1s\n",
      "[CV] END .............gamma=30, learning_rate=1, max_depth=3; total time=   0.0s\n",
      "[CV] END .............gamma=30, learning_rate=1, max_depth=3; total time=   0.0s\n",
      "[CV] END .............gamma=30, learning_rate=1, max_depth=3; total time=   0.0s\n",
      "[CV] END .............gamma=30, learning_rate=1, max_depth=3; total time=   0.0s\n",
      "[CV] END .............gamma=30, learning_rate=1, max_depth=3; total time=   0.0s\n",
      "[CV] END .............gamma=30, learning_rate=1, max_depth=6; total time=   0.0s\n",
      "[CV] END .............gamma=30, learning_rate=1, max_depth=6; total time=   0.0s\n",
      "[CV] END .............gamma=30, learning_rate=1, max_depth=6; total time=   0.0s\n",
      "[CV] END .............gamma=30, learning_rate=1, max_depth=6; total time=   0.0s\n",
      "[CV] END .............gamma=30, learning_rate=1, max_depth=6; total time=   0.0s\n",
      "[CV] END .............gamma=30, learning_rate=1, max_depth=9; total time=   0.1s\n",
      "[CV] END .............gamma=30, learning_rate=1, max_depth=9; total time=   0.0s\n",
      "[CV] END .............gamma=30, learning_rate=1, max_depth=9; total time=   0.0s\n",
      "[CV] END .............gamma=30, learning_rate=1, max_depth=9; total time=   0.1s\n",
      "[CV] END .............gamma=30, learning_rate=1, max_depth=9; total time=   0.1s\n",
      "[CV] END ........gamma=0.2, learning_rate=0.001, max_depth=3; total time=   0.0s\n",
      "[CV] END ........gamma=0.2, learning_rate=0.001, max_depth=3; total time=   0.0s\n",
      "[CV] END ........gamma=0.2, learning_rate=0.001, max_depth=3; total time=   0.0s\n",
      "[CV] END ........gamma=0.2, learning_rate=0.001, max_depth=3; total time=   0.0s\n",
      "[CV] END ........gamma=0.2, learning_rate=0.001, max_depth=3; total time=   0.0s\n",
      "[CV] END ........gamma=0.2, learning_rate=0.001, max_depth=6; total time=   0.0s\n",
      "[CV] END ........gamma=0.2, learning_rate=0.001, max_depth=6; total time=   0.0s\n",
      "[CV] END ........gamma=0.2, learning_rate=0.001, max_depth=6; total time=   0.0s\n",
      "[CV] END ........gamma=0.2, learning_rate=0.001, max_depth=6; total time=   0.0s\n",
      "[CV] END ........gamma=0.2, learning_rate=0.001, max_depth=6; total time=   0.0s\n",
      "[CV] END ........gamma=0.2, learning_rate=0.001, max_depth=9; total time=   0.0s\n",
      "[CV] END ........gamma=0.2, learning_rate=0.001, max_depth=9; total time=   0.1s\n",
      "[CV] END ........gamma=0.2, learning_rate=0.001, max_depth=9; total time=   0.0s\n",
      "[CV] END ........gamma=0.2, learning_rate=0.001, max_depth=9; total time=   0.0s\n",
      "[CV] END ........gamma=0.2, learning_rate=0.001, max_depth=9; total time=   0.0s\n",
      "[CV] END ..........gamma=0.2, learning_rate=0.1, max_depth=3; total time=   0.0s\n",
      "[CV] END ..........gamma=0.2, learning_rate=0.1, max_depth=3; total time=   0.0s\n",
      "[CV] END ..........gamma=0.2, learning_rate=0.1, max_depth=3; total time=   0.0s\n",
      "[CV] END ..........gamma=0.2, learning_rate=0.1, max_depth=3; total time=   0.0s\n",
      "[CV] END ..........gamma=0.2, learning_rate=0.1, max_depth=3; total time=   0.0s\n",
      "[CV] END ..........gamma=0.2, learning_rate=0.1, max_depth=6; total time=   0.0s\n",
      "[CV] END ..........gamma=0.2, learning_rate=0.1, max_depth=6; total time=   0.0s\n",
      "[CV] END ..........gamma=0.2, learning_rate=0.1, max_depth=6; total time=   0.0s\n",
      "[CV] END ..........gamma=0.2, learning_rate=0.1, max_depth=6; total time=   0.0s\n",
      "[CV] END ..........gamma=0.2, learning_rate=0.1, max_depth=6; total time=   0.0s\n",
      "[CV] END ..........gamma=0.2, learning_rate=0.1, max_depth=9; total time=   0.0s\n",
      "[CV] END ..........gamma=0.2, learning_rate=0.1, max_depth=9; total time=   0.0s\n",
      "[CV] END ..........gamma=0.2, learning_rate=0.1, max_depth=9; total time=   0.0s\n",
      "[CV] END ..........gamma=0.2, learning_rate=0.1, max_depth=9; total time=   0.0s\n",
      "[CV] END ..........gamma=0.2, learning_rate=0.1, max_depth=9; total time=   0.0s\n",
      "[CV] END ..........gamma=0.2, learning_rate=0.1, max_depth=3; total time=   0.0s\n",
      "[CV] END ..........gamma=0.2, learning_rate=0.1, max_depth=3; total time=   0.0s\n",
      "[CV] END ..........gamma=0.2, learning_rate=0.1, max_depth=3; total time=   0.0s\n",
      "[CV] END ..........gamma=0.2, learning_rate=0.1, max_depth=3; total time=   0.0s\n",
      "[CV] END ..........gamma=0.2, learning_rate=0.1, max_depth=3; total time=   0.0s\n",
      "[CV] END ..........gamma=0.2, learning_rate=0.1, max_depth=6; total time=   0.0s\n",
      "[CV] END ..........gamma=0.2, learning_rate=0.1, max_depth=6; total time=   0.0s\n",
      "[CV] END ..........gamma=0.2, learning_rate=0.1, max_depth=6; total time=   0.0s\n",
      "[CV] END ..........gamma=0.2, learning_rate=0.1, max_depth=6; total time=   0.0s\n",
      "[CV] END ..........gamma=0.2, learning_rate=0.1, max_depth=6; total time=   0.0s\n",
      "[CV] END ..........gamma=0.2, learning_rate=0.1, max_depth=9; total time=   0.0s\n",
      "[CV] END ..........gamma=0.2, learning_rate=0.1, max_depth=9; total time=   0.0s\n",
      "[CV] END ..........gamma=0.2, learning_rate=0.1, max_depth=9; total time=   0.1s\n",
      "[CV] END ..........gamma=0.2, learning_rate=0.1, max_depth=9; total time=   0.0s\n",
      "[CV] END ..........gamma=0.2, learning_rate=0.1, max_depth=9; total time=   0.0s\n",
      "[CV] END ............gamma=0.2, learning_rate=1, max_depth=3; total time=   0.0s\n",
      "[CV] END ............gamma=0.2, learning_rate=1, max_depth=3; total time=   0.0s\n",
      "[CV] END ............gamma=0.2, learning_rate=1, max_depth=3; total time=   0.0s\n",
      "[CV] END ............gamma=0.2, learning_rate=1, max_depth=3; total time=   0.0s\n",
      "[CV] END ............gamma=0.2, learning_rate=1, max_depth=3; total time=   0.0s\n",
      "[CV] END ............gamma=0.2, learning_rate=1, max_depth=6; total time=   0.0s\n",
      "[CV] END ............gamma=0.2, learning_rate=1, max_depth=6; total time=   0.0s\n",
      "[CV] END ............gamma=0.2, learning_rate=1, max_depth=6; total time=   0.0s\n",
      "[CV] END ............gamma=0.2, learning_rate=1, max_depth=6; total time=   0.0s\n",
      "[CV] END ............gamma=0.2, learning_rate=1, max_depth=6; total time=   0.0s\n",
      "[CV] END ............gamma=0.2, learning_rate=1, max_depth=9; total time=   0.0s\n",
      "[CV] END ............gamma=0.2, learning_rate=1, max_depth=9; total time=   0.0s\n",
      "[CV] END ............gamma=0.2, learning_rate=1, max_depth=9; total time=   0.0s\n",
      "[CV] END ............gamma=0.2, learning_rate=1, max_depth=9; total time=   0.0s\n",
      "[CV] END ............gamma=0.2, learning_rate=1, max_depth=9; total time=   0.0s\n",
      "[CV] END ........gamma=0.4, learning_rate=0.001, max_depth=3; total time=   0.0s\n",
      "[CV] END ........gamma=0.4, learning_rate=0.001, max_depth=3; total time=   0.0s\n",
      "[CV] END ........gamma=0.4, learning_rate=0.001, max_depth=3; total time=   0.0s\n",
      "[CV] END ........gamma=0.4, learning_rate=0.001, max_depth=3; total time=   0.0s\n",
      "[CV] END ........gamma=0.4, learning_rate=0.001, max_depth=3; total time=   0.0s\n",
      "[CV] END ........gamma=0.4, learning_rate=0.001, max_depth=6; total time=   0.0s\n",
      "[CV] END ........gamma=0.4, learning_rate=0.001, max_depth=6; total time=   0.0s\n"
     ]
    },
    {
     "name": "stdout",
     "output_type": "stream",
     "text": [
      "[CV] END ........gamma=0.4, learning_rate=0.001, max_depth=6; total time=   0.0s\n",
      "[CV] END ........gamma=0.4, learning_rate=0.001, max_depth=6; total time=   0.0s\n",
      "[CV] END ........gamma=0.4, learning_rate=0.001, max_depth=6; total time=   0.0s\n",
      "[CV] END ........gamma=0.4, learning_rate=0.001, max_depth=9; total time=   0.0s\n",
      "[CV] END ........gamma=0.4, learning_rate=0.001, max_depth=9; total time=   0.1s\n",
      "[CV] END ........gamma=0.4, learning_rate=0.001, max_depth=9; total time=   0.0s\n",
      "[CV] END ........gamma=0.4, learning_rate=0.001, max_depth=9; total time=   0.0s\n",
      "[CV] END ........gamma=0.4, learning_rate=0.001, max_depth=9; total time=   0.0s\n",
      "[CV] END ..........gamma=0.4, learning_rate=0.1, max_depth=3; total time=   0.0s\n",
      "[CV] END ..........gamma=0.4, learning_rate=0.1, max_depth=3; total time=   0.0s\n",
      "[CV] END ..........gamma=0.4, learning_rate=0.1, max_depth=3; total time=   0.0s\n",
      "[CV] END ..........gamma=0.4, learning_rate=0.1, max_depth=3; total time=   0.0s\n",
      "[CV] END ..........gamma=0.4, learning_rate=0.1, max_depth=3; total time=   0.0s\n",
      "[CV] END ..........gamma=0.4, learning_rate=0.1, max_depth=6; total time=   0.0s\n",
      "[CV] END ..........gamma=0.4, learning_rate=0.1, max_depth=6; total time=   0.0s\n",
      "[CV] END ..........gamma=0.4, learning_rate=0.1, max_depth=6; total time=   0.0s\n",
      "[CV] END ..........gamma=0.4, learning_rate=0.1, max_depth=6; total time=   0.0s\n",
      "[CV] END ..........gamma=0.4, learning_rate=0.1, max_depth=6; total time=   0.0s\n",
      "[CV] END ..........gamma=0.4, learning_rate=0.1, max_depth=9; total time=   0.0s\n",
      "[CV] END ..........gamma=0.4, learning_rate=0.1, max_depth=9; total time=   0.0s\n",
      "[CV] END ..........gamma=0.4, learning_rate=0.1, max_depth=9; total time=   0.0s\n",
      "[CV] END ..........gamma=0.4, learning_rate=0.1, max_depth=9; total time=   0.0s\n",
      "[CV] END ..........gamma=0.4, learning_rate=0.1, max_depth=9; total time=   0.0s\n",
      "[CV] END ..........gamma=0.4, learning_rate=0.1, max_depth=3; total time=   0.0s\n",
      "[CV] END ..........gamma=0.4, learning_rate=0.1, max_depth=3; total time=   0.0s\n",
      "[CV] END ..........gamma=0.4, learning_rate=0.1, max_depth=3; total time=   0.0s\n",
      "[CV] END ..........gamma=0.4, learning_rate=0.1, max_depth=3; total time=   0.0s\n",
      "[CV] END ..........gamma=0.4, learning_rate=0.1, max_depth=3; total time=   0.0s\n",
      "[CV] END ..........gamma=0.4, learning_rate=0.1, max_depth=6; total time=   0.0s\n",
      "[CV] END ..........gamma=0.4, learning_rate=0.1, max_depth=6; total time=   0.0s\n",
      "[CV] END ..........gamma=0.4, learning_rate=0.1, max_depth=6; total time=   0.0s\n",
      "[CV] END ..........gamma=0.4, learning_rate=0.1, max_depth=6; total time=   0.0s\n",
      "[CV] END ..........gamma=0.4, learning_rate=0.1, max_depth=6; total time=   0.0s\n",
      "[CV] END ..........gamma=0.4, learning_rate=0.1, max_depth=9; total time=   0.0s\n",
      "[CV] END ..........gamma=0.4, learning_rate=0.1, max_depth=9; total time=   0.0s\n",
      "[CV] END ..........gamma=0.4, learning_rate=0.1, max_depth=9; total time=   0.0s\n",
      "[CV] END ..........gamma=0.4, learning_rate=0.1, max_depth=9; total time=   0.0s\n",
      "[CV] END ..........gamma=0.4, learning_rate=0.1, max_depth=9; total time=   0.1s\n",
      "[CV] END ............gamma=0.4, learning_rate=1, max_depth=3; total time=   0.0s\n",
      "[CV] END ............gamma=0.4, learning_rate=1, max_depth=3; total time=   0.0s\n",
      "[CV] END ............gamma=0.4, learning_rate=1, max_depth=3; total time=   0.0s\n",
      "[CV] END ............gamma=0.4, learning_rate=1, max_depth=3; total time=   0.0s\n",
      "[CV] END ............gamma=0.4, learning_rate=1, max_depth=3; total time=   0.0s\n",
      "[CV] END ............gamma=0.4, learning_rate=1, max_depth=6; total time=   0.0s\n",
      "[CV] END ............gamma=0.4, learning_rate=1, max_depth=6; total time=   0.0s\n",
      "[CV] END ............gamma=0.4, learning_rate=1, max_depth=6; total time=   0.0s\n",
      "[CV] END ............gamma=0.4, learning_rate=1, max_depth=6; total time=   0.0s\n",
      "[CV] END ............gamma=0.4, learning_rate=1, max_depth=6; total time=   0.0s\n",
      "[CV] END ............gamma=0.4, learning_rate=1, max_depth=9; total time=   0.0s\n",
      "[CV] END ............gamma=0.4, learning_rate=1, max_depth=9; total time=   0.0s\n",
      "[CV] END ............gamma=0.4, learning_rate=1, max_depth=9; total time=   0.0s\n",
      "[CV] END ............gamma=0.4, learning_rate=1, max_depth=9; total time=   0.0s\n",
      "[CV] END ............gamma=0.4, learning_rate=1, max_depth=9; total time=   0.0s\n"
     ]
    },
    {
     "data": {
      "text/plain": [
       "GridSearchCV(cv=5,\n",
       "             estimator=XGBClassifier(base_score=None, booster=None,\n",
       "                                     callbacks=None, colsample_bylevel=None,\n",
       "                                     colsample_bynode=None,\n",
       "                                     colsample_bytree=None,\n",
       "                                     early_stopping_rounds=None,\n",
       "                                     enable_categorical=False, eval_metric=None,\n",
       "                                     feature_types=None, gamma=None,\n",
       "                                     gpu_id=None, grow_policy=None,\n",
       "                                     importance_type=None,\n",
       "                                     interaction_constraints=None,\n",
       "                                     learning_rate=None,...\n",
       "                                     max_cat_to_onehot=None,\n",
       "                                     max_delta_step=None, max_depth=None,\n",
       "                                     max_leaves=None, min_child_weight=None,\n",
       "                                     missing=nan, monotone_constraints=None,\n",
       "                                     n_estimators=100, n_jobs=None,\n",
       "                                     num_parallel_tree=None, predictor=None,\n",
       "                                     random_state=42, ...),\n",
       "             param_grid={'gamma': [2, 4, 10, 30, 0.2, 0.4],\n",
       "                         'learning_rate': [0.001, 0.1, 0.1, 1],\n",
       "                         'max_depth': [3, 6, 9]},\n",
       "             refit='accuracy', scoring=['accuracy'], verbose=2)"
      ]
     },
     "execution_count": 421,
     "metadata": {},
     "output_type": "execute_result"
    }
   ],
   "source": [
    "gs.fit(x_train , y_train)"
   ]
  },
  {
   "cell_type": "code",
   "execution_count": 422,
   "id": "56a417ad",
   "metadata": {},
   "outputs": [
    {
     "name": "stdout",
     "output_type": "stream",
     "text": [
      "-- 45.01605558395386 seconds --\n"
     ]
    }
   ],
   "source": [
    "print(\"-- %s seconds --\"%(time.time() - start_time))"
   ]
  },
  {
   "cell_type": "code",
   "execution_count": 423,
   "id": "1d4a0a99",
   "metadata": {},
   "outputs": [
    {
     "name": "stdout",
     "output_type": "stream",
     "text": [
      "XGBClassifier(base_score=None, booster=None, callbacks=None,\n",
      "              colsample_bylevel=None, colsample_bynode=None,\n",
      "              colsample_bytree=None, early_stopping_rounds=None,\n",
      "              enable_categorical=False, eval_metric=None, feature_types=None,\n",
      "              gamma=10, gpu_id=None, grow_policy=None, importance_type=None,\n",
      "              interaction_constraints=None, learning_rate=0.001, max_bin=None,\n",
      "              max_cat_threshold=None, max_cat_to_onehot=None,\n",
      "              max_delta_step=None, max_depth=6, max_leaves=None,\n",
      "              min_child_weight=None, missing=nan, monotone_constraints=None,\n",
      "              n_estimators=100, n_jobs=None, num_parallel_tree=None,\n",
      "              predictor=None, random_state=42, ...)\n"
     ]
    }
   ],
   "source": [
    "print(gs.best_estimator_)"
   ]
  },
  {
   "cell_type": "code",
   "execution_count": 424,
   "id": "59e2e79b",
   "metadata": {},
   "outputs": [
    {
     "name": "stdout",
     "output_type": "stream",
     "text": [
      "{'gamma': 10, 'learning_rate': 0.001, 'max_depth': 6}\n"
     ]
    }
   ],
   "source": [
    "print(gs.best_params_)"
   ]
  },
  {
   "cell_type": "code",
   "execution_count": 425,
   "id": "ebf4be83",
   "metadata": {},
   "outputs": [
    {
     "name": "stdout",
     "output_type": "stream",
     "text": [
      "0.7605611196712891\n"
     ]
    }
   ],
   "source": [
    "print(gs.best_score_)\n",
    "## score according to the metrics we passed in refit"
   ]
  },
  {
   "cell_type": "markdown",
   "id": "8bdd2543",
   "metadata": {},
   "source": [
    "## Xgboost using randomsearchcv"
   ]
  },
  {
   "cell_type": "code",
   "execution_count": 30,
   "id": "56fdf31d",
   "metadata": {},
   "outputs": [],
   "source": [
    "from sklearn.model_selection import RandomizedSearchCV\n",
    "import xgboost\n",
    "import time"
   ]
  },
  {
   "cell_type": "code",
   "execution_count": 25,
   "id": "f4df99b5",
   "metadata": {},
   "outputs": [],
   "source": [
    "params = {\n",
    "    \"max_depth\": [3,6,9],\n",
    "    \"gamma\" : [2 , 4, 10, 30, 0.2, 0.4],\n",
    "    \"learning_rate\":[ 0.001, 00.1, 0.1, 1],\n",
    "#\n",
    "}\n",
    "## total decision tree's created(n_estimators * max_depth * gamma* learning_rate*colsample_bytree) = 3* 3* 9* 4*3 =972\n",
    "## \"colsample_bytree\" : [ 0.2] column we will train with all columns so no need to give 0.2 that is 20% of columns\n",
    "## \"n_estimators\":[100, 200 ,500](it is not affecting so remove)\n",
    "## \"min_child_weight\" : [ 1, 3, 5, 7 ] (it is not affecting so remove)\n",
    "## \"max_depth\"        : [ 3, 4, 5, 6, 8, 10, 12, 15] ( its is not affecting so remove)\n"
   ]
  },
  {
   "cell_type": "code",
   "execution_count": 34,
   "id": "42e4f219",
   "metadata": {},
   "outputs": [],
   "source": [
    "xg = xgboost.XGBClassifier(random_state=42)"
   ]
  },
  {
   "cell_type": "code",
   "execution_count": 76,
   "id": "c243ab04",
   "metadata": {},
   "outputs": [],
   "source": [
    "rs = RandomizedSearchCV(xg, \n",
    "                        param_distributions=params,\n",
    "                        n_iter = 100 , \n",
    "                        cv =5 ,\n",
    "                        scoring = [\"accuracy\"],\n",
    "                        refit='accuracy',\n",
    "                        n_jobs =-1, \n",
    "                        verbose=3,\n",
    "                        return_train_score=True\n",
    "                       )"
   ]
  },
  {
   "cell_type": "code",
   "execution_count": 77,
   "id": "a97fa655",
   "metadata": {},
   "outputs": [],
   "source": [
    "start_time = time.time()"
   ]
  },
  {
   "cell_type": "code",
   "execution_count": 78,
   "id": "b945f5e3",
   "metadata": {},
   "outputs": [
    {
     "name": "stdout",
     "output_type": "stream",
     "text": [
      "Fitting 5 folds for each of 72 candidates, totalling 360 fits\n"
     ]
    },
    {
     "name": "stderr",
     "output_type": "stream",
     "text": [
      "C:\\ProgramData\\Anaconda3\\lib\\site-packages\\sklearn\\model_selection\\_search.py:292: UserWarning: The total space of parameters 72 is smaller than n_iter=100. Running 72 iterations. For exhaustive searches, use GridSearchCV.\n",
      "  warnings.warn(\n"
     ]
    },
    {
     "data": {
      "text/plain": [
       "RandomizedSearchCV(cv=5,\n",
       "                   estimator=XGBClassifier(base_score=None, booster=None,\n",
       "                                           callbacks=None,\n",
       "                                           colsample_bylevel=None,\n",
       "                                           colsample_bynode=None,\n",
       "                                           colsample_bytree=None,\n",
       "                                           early_stopping_rounds=None,\n",
       "                                           enable_categorical=False,\n",
       "                                           eval_metric=None, feature_types=None,\n",
       "                                           gamma=None, gpu_id=None,\n",
       "                                           grow_policy=None,\n",
       "                                           importance_type=None,\n",
       "                                           interaction_constraints=None,\n",
       "                                           learning_rate...\n",
       "                                           max_leaves=None,\n",
       "                                           min_child_weight=None, missing=nan,\n",
       "                                           monotone_constraints=None,\n",
       "                                           n_estimators=100, n_jobs=None,\n",
       "                                           num_parallel_tree=None,\n",
       "                                           predictor=None, random_state=42, ...),\n",
       "                   n_iter=100, n_jobs=-1,\n",
       "                   param_distributions={'gamma': [2, 4, 10, 30, 0.2, 0.4],\n",
       "                                        'learning_rate': [0.001, 0.1, 0.1, 1],\n",
       "                                        'max_depth': [3, 6, 9]},\n",
       "                   refit='accuracy', return_train_score=True,\n",
       "                   scoring=['accuracy'], verbose=3)"
      ]
     },
     "execution_count": 78,
     "metadata": {},
     "output_type": "execute_result"
    }
   ],
   "source": [
    "rs.fit(x_train , y_train)"
   ]
  },
  {
   "cell_type": "code",
   "execution_count": 79,
   "id": "52296a07",
   "metadata": {},
   "outputs": [
    {
     "name": "stdout",
     "output_type": "stream",
     "text": [
      "-- 4.899502277374268 seconds --\n"
     ]
    }
   ],
   "source": [
    "print(\"-- %s seconds --\"%(time.time() - start_time))"
   ]
  },
  {
   "cell_type": "code",
   "execution_count": 80,
   "id": "2e6eed84",
   "metadata": {},
   "outputs": [
    {
     "name": "stdout",
     "output_type": "stream",
     "text": [
      "XGBClassifier(base_score=None, booster=None, callbacks=None,\n",
      "              colsample_bylevel=None, colsample_bynode=None,\n",
      "              colsample_bytree=None, early_stopping_rounds=None,\n",
      "              enable_categorical=False, eval_metric=None, feature_types=None,\n",
      "              gamma=10, gpu_id=None, grow_policy=None, importance_type=None,\n",
      "              interaction_constraints=None, learning_rate=0.001, max_bin=None,\n",
      "              max_cat_threshold=None, max_cat_to_onehot=None,\n",
      "              max_delta_step=None, max_depth=6, max_leaves=None,\n",
      "              min_child_weight=None, missing=nan, monotone_constraints=None,\n",
      "              n_estimators=100, n_jobs=None, num_parallel_tree=None,\n",
      "              predictor=None, random_state=42, ...)\n"
     ]
    }
   ],
   "source": [
    "print(rs.best_estimator_)"
   ]
  },
  {
   "cell_type": "code",
   "execution_count": 81,
   "id": "d8319456",
   "metadata": {},
   "outputs": [
    {
     "name": "stdout",
     "output_type": "stream",
     "text": [
      "{'max_depth': 6, 'learning_rate': 0.001, 'gamma': 10}\n"
     ]
    }
   ],
   "source": [
    "print(rs.best_params_)"
   ]
  },
  {
   "cell_type": "code",
   "execution_count": 82,
   "id": "378f8b2a",
   "metadata": {},
   "outputs": [
    {
     "name": "stdout",
     "output_type": "stream",
     "text": [
      "0.7605611196712891\n"
     ]
    }
   ],
   "source": [
    "print(rs.best_score_)"
   ]
  },
  {
   "cell_type": "code",
   "execution_count": null,
   "id": "3cbaa38c",
   "metadata": {},
   "outputs": [],
   "source": []
  }
 ],
 "metadata": {
  "kernelspec": {
   "display_name": "Python 3 (ipykernel)",
   "language": "python",
   "name": "python3"
  },
  "language_info": {
   "codemirror_mode": {
    "name": "ipython",
    "version": 3
   },
   "file_extension": ".py",
   "mimetype": "text/x-python",
   "name": "python",
   "nbconvert_exporter": "python",
   "pygments_lexer": "ipython3",
   "version": "3.9.13"
  }
 },
 "nbformat": 4,
 "nbformat_minor": 5
}
